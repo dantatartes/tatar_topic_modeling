{
  "nbformat": 4,
  "nbformat_minor": 0,
  "metadata": {
    "accelerator": "GPU",
    "colab": {
      "name": "notebook",
      "provenance": [],
      "collapsed_sections": [
        "FRSY1QoGZyfd",
        "LrIOPOYPaLce",
        "2vN4ZPu0anQr",
        "zJTtZWV6bnuN"
      ],
      "toc_visible": true
    },
    "kernelspec": {
      "display_name": "Python 3",
      "name": "python3"
    },
    "widgets": {
      "application/vnd.jupyter.widget-state+json": {
        "ba6258f1882f4e15bb6f487fcd8b2655": {
          "model_module": "@jupyter-widgets/controls",
          "model_name": "HBoxModel",
          "state": {
            "_dom_classes": [],
            "_model_module": "@jupyter-widgets/controls",
            "_model_module_version": "1.5.0",
            "_model_name": "HBoxModel",
            "_view_count": null,
            "_view_module": "@jupyter-widgets/controls",
            "_view_module_version": "1.5.0",
            "_view_name": "HBoxView",
            "box_style": "",
            "children": [
              "IPY_MODEL_afc28e6114d04da9806f316716f54117",
              "IPY_MODEL_1c1fc15cfd81411ab2965f08a1826973"
            ],
            "layout": "IPY_MODEL_5f0822deed274706bf8e80236700a3c6"
          }
        },
        "afc28e6114d04da9806f316716f54117": {
          "model_module": "@jupyter-widgets/controls",
          "model_name": "FloatProgressModel",
          "state": {
            "_dom_classes": [],
            "_model_module": "@jupyter-widgets/controls",
            "_model_module_version": "1.5.0",
            "_model_name": "FloatProgressModel",
            "_view_count": null,
            "_view_module": "@jupyter-widgets/controls",
            "_view_module_version": "1.5.0",
            "_view_name": "ProgressView",
            "bar_style": "",
            "description": "training routine:   0%",
            "description_tooltip": null,
            "layout": "IPY_MODEL_c6c7126a67c54b4a991ea61f103b8e09",
            "max": 16,
            "min": 0,
            "orientation": "horizontal",
            "style": "IPY_MODEL_8a63aa44e716479dbbe350d6b06d2b6b",
            "value": 0
          }
        },
        "1c1fc15cfd81411ab2965f08a1826973": {
          "model_module": "@jupyter-widgets/controls",
          "model_name": "HTMLModel",
          "state": {
            "_dom_classes": [],
            "_model_module": "@jupyter-widgets/controls",
            "_model_module_version": "1.5.0",
            "_model_name": "HTMLModel",
            "_view_count": null,
            "_view_module": "@jupyter-widgets/controls",
            "_view_module_version": "1.5.0",
            "_view_name": "HTMLView",
            "description": "",
            "description_tooltip": null,
            "layout": "IPY_MODEL_5af19698437e4387a63a8ba0cf831bf2",
            "placeholder": "​",
            "style": "IPY_MODEL_3f372b39f7bc446db45d83f3c0b7f30d",
            "value": " 0/16 [00:00&lt;?, ?it/s]"
          }
        },
        "5f0822deed274706bf8e80236700a3c6": {
          "model_module": "@jupyter-widgets/base",
          "model_name": "LayoutModel",
          "state": {
            "_model_module": "@jupyter-widgets/base",
            "_model_module_version": "1.2.0",
            "_model_name": "LayoutModel",
            "_view_count": null,
            "_view_module": "@jupyter-widgets/base",
            "_view_module_version": "1.2.0",
            "_view_name": "LayoutView",
            "align_content": null,
            "align_items": null,
            "align_self": null,
            "border": null,
            "bottom": null,
            "display": null,
            "flex": null,
            "flex_flow": null,
            "grid_area": null,
            "grid_auto_columns": null,
            "grid_auto_flow": null,
            "grid_auto_rows": null,
            "grid_column": null,
            "grid_gap": null,
            "grid_row": null,
            "grid_template_areas": null,
            "grid_template_columns": null,
            "grid_template_rows": null,
            "height": null,
            "justify_content": null,
            "justify_items": null,
            "left": null,
            "margin": null,
            "max_height": null,
            "max_width": null,
            "min_height": null,
            "min_width": null,
            "object_fit": null,
            "object_position": null,
            "order": null,
            "overflow": null,
            "overflow_x": null,
            "overflow_y": null,
            "padding": null,
            "right": null,
            "top": null,
            "visibility": null,
            "width": null
          }
        },
        "c6c7126a67c54b4a991ea61f103b8e09": {
          "model_module": "@jupyter-widgets/base",
          "model_name": "LayoutModel",
          "state": {
            "_model_module": "@jupyter-widgets/base",
            "_model_module_version": "1.2.0",
            "_model_name": "LayoutModel",
            "_view_count": null,
            "_view_module": "@jupyter-widgets/base",
            "_view_module_version": "1.2.0",
            "_view_name": "LayoutView",
            "align_content": null,
            "align_items": null,
            "align_self": null,
            "border": null,
            "bottom": null,
            "display": null,
            "flex": null,
            "flex_flow": null,
            "grid_area": null,
            "grid_auto_columns": null,
            "grid_auto_flow": null,
            "grid_auto_rows": null,
            "grid_column": null,
            "grid_gap": null,
            "grid_row": null,
            "grid_template_areas": null,
            "grid_template_columns": null,
            "grid_template_rows": null,
            "height": null,
            "justify_content": null,
            "justify_items": null,
            "left": null,
            "margin": null,
            "max_height": null,
            "max_width": null,
            "min_height": null,
            "min_width": null,
            "object_fit": null,
            "object_position": null,
            "order": null,
            "overflow": null,
            "overflow_x": null,
            "overflow_y": null,
            "padding": null,
            "right": null,
            "top": null,
            "visibility": null,
            "width": null
          }
        },
        "8a63aa44e716479dbbe350d6b06d2b6b": {
          "model_module": "@jupyter-widgets/controls",
          "model_name": "ProgressStyleModel",
          "state": {
            "_model_module": "@jupyter-widgets/controls",
            "_model_module_version": "1.5.0",
            "_model_name": "ProgressStyleModel",
            "_view_count": null,
            "_view_module": "@jupyter-widgets/base",
            "_view_module_version": "1.2.0",
            "_view_name": "StyleView",
            "bar_color": null,
            "description_width": "initial"
          }
        },
        "5af19698437e4387a63a8ba0cf831bf2": {
          "model_module": "@jupyter-widgets/base",
          "model_name": "LayoutModel",
          "state": {
            "_model_module": "@jupyter-widgets/base",
            "_model_module_version": "1.2.0",
            "_model_name": "LayoutModel",
            "_view_count": null,
            "_view_module": "@jupyter-widgets/base",
            "_view_module_version": "1.2.0",
            "_view_name": "LayoutView",
            "align_content": null,
            "align_items": null,
            "align_self": null,
            "border": null,
            "bottom": null,
            "display": null,
            "flex": null,
            "flex_flow": null,
            "grid_area": null,
            "grid_auto_columns": null,
            "grid_auto_flow": null,
            "grid_auto_rows": null,
            "grid_column": null,
            "grid_gap": null,
            "grid_row": null,
            "grid_template_areas": null,
            "grid_template_columns": null,
            "grid_template_rows": null,
            "height": null,
            "justify_content": null,
            "justify_items": null,
            "left": null,
            "margin": null,
            "max_height": null,
            "max_width": null,
            "min_height": null,
            "min_width": null,
            "object_fit": null,
            "object_position": null,
            "order": null,
            "overflow": null,
            "overflow_x": null,
            "overflow_y": null,
            "padding": null,
            "right": null,
            "top": null,
            "visibility": null,
            "width": null
          }
        },
        "3f372b39f7bc446db45d83f3c0b7f30d": {
          "model_module": "@jupyter-widgets/controls",
          "model_name": "DescriptionStyleModel",
          "state": {
            "_model_module": "@jupyter-widgets/controls",
            "_model_module_version": "1.5.0",
            "_model_name": "DescriptionStyleModel",
            "_view_count": null,
            "_view_module": "@jupyter-widgets/base",
            "_view_module_version": "1.2.0",
            "_view_name": "StyleView",
            "description_width": ""
          }
        },
        "60fd133f8a59442387317f1c7066b478": {
          "model_module": "@jupyter-widgets/controls",
          "model_name": "HBoxModel",
          "state": {
            "_dom_classes": [],
            "_model_module": "@jupyter-widgets/controls",
            "_model_module_version": "1.5.0",
            "_model_name": "HBoxModel",
            "_view_count": null,
            "_view_module": "@jupyter-widgets/controls",
            "_view_module_version": "1.5.0",
            "_view_name": "HBoxView",
            "box_style": "",
            "children": [
              "IPY_MODEL_7f99bf487e7c4982ac57504f2c8c2bef",
              "IPY_MODEL_3aabcc47f0e940d2b6894bf65cb2b12d"
            ],
            "layout": "IPY_MODEL_3c991d2e85974204a5f5ed8a9073cd13"
          }
        },
        "7f99bf487e7c4982ac57504f2c8c2bef": {
          "model_module": "@jupyter-widgets/controls",
          "model_name": "FloatProgressModel",
          "state": {
            "_dom_classes": [],
            "_model_module": "@jupyter-widgets/controls",
            "_model_module_version": "1.5.0",
            "_model_name": "FloatProgressModel",
            "_view_count": null,
            "_view_module": "@jupyter-widgets/controls",
            "_view_module_version": "1.5.0",
            "_view_name": "ProgressView",
            "bar_style": "",
            "description": "train:  89%",
            "description_tooltip": null,
            "layout": "IPY_MODEL_45d05b45d53142cbb883a26a2675cf2e",
            "max": 368,
            "min": 0,
            "orientation": "horizontal",
            "style": "IPY_MODEL_48eca5eef41744a3874f9d3eb143e4df",
            "value": 329
          }
        },
        "3aabcc47f0e940d2b6894bf65cb2b12d": {
          "model_module": "@jupyter-widgets/controls",
          "model_name": "HTMLModel",
          "state": {
            "_dom_classes": [],
            "_model_module": "@jupyter-widgets/controls",
            "_model_module_version": "1.5.0",
            "_model_name": "HTMLModel",
            "_view_count": null,
            "_view_module": "@jupyter-widgets/controls",
            "_view_module_version": "1.5.0",
            "_view_name": "HTMLView",
            "description": "",
            "description_tooltip": null,
            "layout": "IPY_MODEL_fe28eb01473e4a2cb0b580f568b7edea",
            "placeholder": "​",
            "style": "IPY_MODEL_197e1d39840a4bf68602845d140d9b00",
            "value": " 329/368 [00:27&lt;00:03, 11.98it/s, epoch=0, loss=1.19]"
          }
        },
        "3c991d2e85974204a5f5ed8a9073cd13": {
          "model_module": "@jupyter-widgets/base",
          "model_name": "LayoutModel",
          "state": {
            "_model_module": "@jupyter-widgets/base",
            "_model_module_version": "1.2.0",
            "_model_name": "LayoutModel",
            "_view_count": null,
            "_view_module": "@jupyter-widgets/base",
            "_view_module_version": "1.2.0",
            "_view_name": "LayoutView",
            "align_content": null,
            "align_items": null,
            "align_self": null,
            "border": null,
            "bottom": null,
            "display": null,
            "flex": null,
            "flex_flow": null,
            "grid_area": null,
            "grid_auto_columns": null,
            "grid_auto_flow": null,
            "grid_auto_rows": null,
            "grid_column": null,
            "grid_gap": null,
            "grid_row": null,
            "grid_template_areas": null,
            "grid_template_columns": null,
            "grid_template_rows": null,
            "height": null,
            "justify_content": null,
            "justify_items": null,
            "left": null,
            "margin": null,
            "max_height": null,
            "max_width": null,
            "min_height": null,
            "min_width": null,
            "object_fit": null,
            "object_position": null,
            "order": null,
            "overflow": null,
            "overflow_x": null,
            "overflow_y": null,
            "padding": null,
            "right": null,
            "top": null,
            "visibility": null,
            "width": null
          }
        },
        "45d05b45d53142cbb883a26a2675cf2e": {
          "model_module": "@jupyter-widgets/base",
          "model_name": "LayoutModel",
          "state": {
            "_model_module": "@jupyter-widgets/base",
            "_model_module_version": "1.2.0",
            "_model_name": "LayoutModel",
            "_view_count": null,
            "_view_module": "@jupyter-widgets/base",
            "_view_module_version": "1.2.0",
            "_view_name": "LayoutView",
            "align_content": null,
            "align_items": null,
            "align_self": null,
            "border": null,
            "bottom": null,
            "display": null,
            "flex": null,
            "flex_flow": null,
            "grid_area": null,
            "grid_auto_columns": null,
            "grid_auto_flow": null,
            "grid_auto_rows": null,
            "grid_column": null,
            "grid_gap": null,
            "grid_row": null,
            "grid_template_areas": null,
            "grid_template_columns": null,
            "grid_template_rows": null,
            "height": null,
            "justify_content": null,
            "justify_items": null,
            "left": null,
            "margin": null,
            "max_height": null,
            "max_width": null,
            "min_height": null,
            "min_width": null,
            "object_fit": null,
            "object_position": null,
            "order": null,
            "overflow": null,
            "overflow_x": null,
            "overflow_y": null,
            "padding": null,
            "right": null,
            "top": null,
            "visibility": null,
            "width": null
          }
        },
        "48eca5eef41744a3874f9d3eb143e4df": {
          "model_module": "@jupyter-widgets/controls",
          "model_name": "ProgressStyleModel",
          "state": {
            "_model_module": "@jupyter-widgets/controls",
            "_model_module_version": "1.5.0",
            "_model_name": "ProgressStyleModel",
            "_view_count": null,
            "_view_module": "@jupyter-widgets/base",
            "_view_module_version": "1.2.0",
            "_view_name": "StyleView",
            "bar_color": null,
            "description_width": "initial"
          }
        },
        "fe28eb01473e4a2cb0b580f568b7edea": {
          "model_module": "@jupyter-widgets/base",
          "model_name": "LayoutModel",
          "state": {
            "_model_module": "@jupyter-widgets/base",
            "_model_module_version": "1.2.0",
            "_model_name": "LayoutModel",
            "_view_count": null,
            "_view_module": "@jupyter-widgets/base",
            "_view_module_version": "1.2.0",
            "_view_name": "LayoutView",
            "align_content": null,
            "align_items": null,
            "align_self": null,
            "border": null,
            "bottom": null,
            "display": null,
            "flex": null,
            "flex_flow": null,
            "grid_area": null,
            "grid_auto_columns": null,
            "grid_auto_flow": null,
            "grid_auto_rows": null,
            "grid_column": null,
            "grid_gap": null,
            "grid_row": null,
            "grid_template_areas": null,
            "grid_template_columns": null,
            "grid_template_rows": null,
            "height": null,
            "justify_content": null,
            "justify_items": null,
            "left": null,
            "margin": null,
            "max_height": null,
            "max_width": null,
            "min_height": null,
            "min_width": null,
            "object_fit": null,
            "object_position": null,
            "order": null,
            "overflow": null,
            "overflow_x": null,
            "overflow_y": null,
            "padding": null,
            "right": null,
            "top": null,
            "visibility": null,
            "width": null
          }
        },
        "197e1d39840a4bf68602845d140d9b00": {
          "model_module": "@jupyter-widgets/controls",
          "model_name": "DescriptionStyleModel",
          "state": {
            "_model_module": "@jupyter-widgets/controls",
            "_model_module_version": "1.5.0",
            "_model_name": "DescriptionStyleModel",
            "_view_count": null,
            "_view_module": "@jupyter-widgets/base",
            "_view_module_version": "1.2.0",
            "_view_name": "StyleView",
            "description_width": ""
          }
        }
      }
    }
  },
  "cells": [
    {
      "cell_type": "markdown",
      "metadata": {
        "id": "zBfHaOiLPrgf"
      },
      "source": [
        "Imports"
      ]
    },
    {
      "cell_type": "code",
      "metadata": {
        "id": "Lt5RUON1PhE1"
      },
      "source": [
        "import re\n",
        "import collections\n",
        "import os\n",
        "from argparse import Namespace\n",
        "\n",
        "import pandas as pd\n",
        "import numpy as np\n",
        "\n",
        "from tqdm.notebook import tqdm\n",
        "from pprint import pprint\n",
        "import seaborn as sns\n",
        "import matplotlib.pyplot as plt\n",
        "\n",
        "from sklearn.model_selection import train_test_split\n",
        "from sklearn.metrics import classification_report\n",
        "from sklearn.cluster import MiniBatchKMeans\n",
        "from sklearn import preprocessing\n",
        "\n",
        "import gensim.corpora as corpora\n",
        "from gensim.models import LdaMulticore\n",
        "from gensim.models import Word2Vec \n",
        "\n",
        "import torch \n",
        "import torch.nn as nn\n",
        "import torch.nn.functional as F\n",
        "import torch.optim as optim\n",
        "from torch.nn import init\n",
        "from torch.nn.parameter import Parameter\n",
        "from torch.utils.data import Dataset, DataLoader"
      ],
      "execution_count": null,
      "outputs": []
    },
    {
      "cell_type": "markdown",
      "metadata": {
        "id": "Hqy5OtVMPtoZ"
      },
      "source": [
        "Data loading"
      ]
    },
    {
      "cell_type": "code",
      "metadata": {
        "colab": {
          "base_uri": "https://localhost:8080/",
          "height": 195
        },
        "id": "2FceZFZZP0qw",
        "outputId": "8120e4e9-3cc8-44f7-c262-715e0b719731"
      },
      "source": [
        "data = pd.read_csv('dataset/data.csv', encoding='utf-8')\n",
        "data.head()"
      ],
      "execution_count": null,
      "outputs": [
        {
          "output_type": "execute_result",
          "data": {
            "text/html": [
              "<div>\n",
              "<style scoped>\n",
              "    .dataframe tbody tr th:only-of-type {\n",
              "        vertical-align: middle;\n",
              "    }\n",
              "\n",
              "    .dataframe tbody tr th {\n",
              "        vertical-align: top;\n",
              "    }\n",
              "\n",
              "    .dataframe thead th {\n",
              "        text-align: right;\n",
              "    }\n",
              "</style>\n",
              "<table border=\"1\" class=\"dataframe\">\n",
              "  <thead>\n",
              "    <tr style=\"text-align: right;\">\n",
              "      <th></th>\n",
              "      <th>title</th>\n",
              "      <th>topic</th>\n",
              "      <th>date</th>\n",
              "      <th>text</th>\n",
              "    </tr>\n",
              "  </thead>\n",
              "  <tbody>\n",
              "    <tr>\n",
              "      <th>0</th>\n",
              "      <td>Чаллыда яшәүче мөмкинлекләре чикле кешеләр күр...</td>\n",
              "      <td>society</td>\n",
              "      <td>25-11-2020</td>\n",
              "      <td>(Казан, 25 ноябрь, «Татар-информ», «Шәһри Чалл...</td>\n",
              "    </tr>\n",
              "    <tr>\n",
              "      <th>1</th>\n",
              "      <td>Актанышта бушлай дарулар бирә башладылар</td>\n",
              "      <td>health</td>\n",
              "      <td>25-11-2020</td>\n",
              "      <td>(Казан, 25 ноябрь, «Татар-информ», «Актаныш»)....</td>\n",
              "    </tr>\n",
              "    <tr>\n",
              "      <th>2</th>\n",
              "      <td>Шәле балалар бакчасында татарча курчак спектак...</td>\n",
              "      <td>science</td>\n",
              "      <td>25-11-2020</td>\n",
              "      <td>(Казан, 25 ноябрь, «Татар-информ», Гөлнар Гари...</td>\n",
              "    </tr>\n",
              "    <tr>\n",
              "      <th>3</th>\n",
              "      <td>Татарстанның җиде зур шәһәрендә бер атна эченд...</td>\n",
              "      <td>society</td>\n",
              "      <td>25-11-2020</td>\n",
              "      <td>(Казан, 25 ноябрь,«Татар-информ»). Ноябрь дәва...</td>\n",
              "    </tr>\n",
              "    <tr>\n",
              "      <th>4</th>\n",
              "      <td>Татарстанда болытлы һава торышы, кар һәм бозла...</td>\n",
              "      <td>ecology</td>\n",
              "      <td>25-11-2020</td>\n",
              "      <td>(Казан, 25 ноябрь, «Татар-информ»). 26 ноябрьд...</td>\n",
              "    </tr>\n",
              "  </tbody>\n",
              "</table>\n",
              "</div>"
            ],
            "text/plain": [
              "                                               title  ...                                               text\n",
              "0  Чаллыда яшәүче мөмкинлекләре чикле кешеләр күр...  ...  (Казан, 25 ноябрь, «Татар-информ», «Шәһри Чалл...\n",
              "1           Актанышта бушлай дарулар бирә башладылар  ...  (Казан, 25 ноябрь, «Татар-информ», «Актаныш»)....\n",
              "2  Шәле балалар бакчасында татарча курчак спектак...  ...  (Казан, 25 ноябрь, «Татар-информ», Гөлнар Гари...\n",
              "3  Татарстанның җиде зур шәһәрендә бер атна эченд...  ...  (Казан, 25 ноябрь,«Татар-информ»). Ноябрь дәва...\n",
              "4  Татарстанда болытлы һава торышы, кар һәм бозла...  ...  (Казан, 25 ноябрь, «Татар-информ»). 26 ноябрьд...\n",
              "\n",
              "[5 rows x 4 columns]"
            ]
          },
          "metadata": {
            "tags": []
          },
          "execution_count": 3
        }
      ]
    },
    {
      "cell_type": "markdown",
      "metadata": {
        "id": "xTqhPrB3PvEZ"
      },
      "source": [
        "## Data preprocessing"
      ]
    },
    {
      "cell_type": "code",
      "metadata": {
        "colab": {
          "base_uri": "https://localhost:8080/",
          "height": 166
        },
        "id": "kX16xqtFPwfS",
        "outputId": "c5e881a0-f82a-420e-e055-80aa96157ea0"
      },
      "source": [
        "data.describe()"
      ],
      "execution_count": null,
      "outputs": [
        {
          "output_type": "execute_result",
          "data": {
            "text/html": [
              "<div>\n",
              "<style scoped>\n",
              "    .dataframe tbody tr th:only-of-type {\n",
              "        vertical-align: middle;\n",
              "    }\n",
              "\n",
              "    .dataframe tbody tr th {\n",
              "        vertical-align: top;\n",
              "    }\n",
              "\n",
              "    .dataframe thead th {\n",
              "        text-align: right;\n",
              "    }\n",
              "</style>\n",
              "<table border=\"1\" class=\"dataframe\">\n",
              "  <thead>\n",
              "    <tr style=\"text-align: right;\">\n",
              "      <th></th>\n",
              "      <th>title</th>\n",
              "      <th>topic</th>\n",
              "      <th>date</th>\n",
              "      <th>text</th>\n",
              "    </tr>\n",
              "  </thead>\n",
              "  <tbody>\n",
              "    <tr>\n",
              "      <th>count</th>\n",
              "      <td>62237</td>\n",
              "      <td>62237</td>\n",
              "      <td>62237</td>\n",
              "      <td>62237</td>\n",
              "    </tr>\n",
              "    <tr>\n",
              "      <th>unique</th>\n",
              "      <td>61605</td>\n",
              "      <td>19</td>\n",
              "      <td>1098</td>\n",
              "      <td>62215</td>\n",
              "    </tr>\n",
              "    <tr>\n",
              "      <th>top</th>\n",
              "      <td>Татарстан синоптиклары көчле җил турында кисәтә</td>\n",
              "      <td>society</td>\n",
              "      <td>18-03-2018</td>\n",
              "      <td>(Азнакай, 21 октябрь, «Татар-информ», «Маяк», ...</td>\n",
              "    </tr>\n",
              "    <tr>\n",
              "      <th>freq</th>\n",
              "      <td>23</td>\n",
              "      <td>19589</td>\n",
              "      <td>215</td>\n",
              "      <td>2</td>\n",
              "    </tr>\n",
              "  </tbody>\n",
              "</table>\n",
              "</div>"
            ],
            "text/plain": [
              "                                                  title  ...                                               text\n",
              "count                                             62237  ...                                              62237\n",
              "unique                                            61605  ...                                              62215\n",
              "top     Татарстан синоптиклары көчле җил турында кисәтә  ...  (Азнакай, 21 октябрь, «Татар-информ», «Маяк», ...\n",
              "freq                                                 23  ...                                                  2\n",
              "\n",
              "[4 rows x 4 columns]"
            ]
          },
          "metadata": {
            "tags": []
          },
          "execution_count": 4
        }
      ]
    },
    {
      "cell_type": "code",
      "metadata": {
        "colab": {
          "base_uri": "https://localhost:8080/"
        },
        "id": "7CiavXhGQDQC",
        "outputId": "5a79972f-3ad3-420f-f2a4-74f6c6d8d125"
      },
      "source": [
        "data.info()"
      ],
      "execution_count": null,
      "outputs": [
        {
          "output_type": "stream",
          "text": [
            "<class 'pandas.core.frame.DataFrame'>\n",
            "RangeIndex: 62237 entries, 0 to 62236\n",
            "Data columns (total 4 columns):\n",
            " #   Column  Non-Null Count  Dtype \n",
            "---  ------  --------------  ----- \n",
            " 0   title   62237 non-null  object\n",
            " 1   topic   62237 non-null  object\n",
            " 2   date    62237 non-null  object\n",
            " 3   text    62237 non-null  object\n",
            "dtypes: object(4)\n",
            "memory usage: 1.9+ MB\n"
          ],
          "name": "stdout"
        }
      ]
    },
    {
      "cell_type": "code",
      "metadata": {
        "colab": {
          "base_uri": "https://localhost:8080/",
          "height": 195
        },
        "id": "9CuNTnPiQE7F",
        "outputId": "0dee2502-f038-4355-ec49-1b0669d59593"
      },
      "source": [
        "data['text'] = data['text'].apply(lambda x: x[x.index(')')+3:] if x.startswith(\"(\") and \")\" in x else x)\n",
        "data['text'] = data['text'].apply(lambda x: x.replace(\"\\r\", '').replace(\"\\n\", ''))\n",
        "data.head()"
      ],
      "execution_count": null,
      "outputs": [
        {
          "output_type": "execute_result",
          "data": {
            "text/html": [
              "<div>\n",
              "<style scoped>\n",
              "    .dataframe tbody tr th:only-of-type {\n",
              "        vertical-align: middle;\n",
              "    }\n",
              "\n",
              "    .dataframe tbody tr th {\n",
              "        vertical-align: top;\n",
              "    }\n",
              "\n",
              "    .dataframe thead th {\n",
              "        text-align: right;\n",
              "    }\n",
              "</style>\n",
              "<table border=\"1\" class=\"dataframe\">\n",
              "  <thead>\n",
              "    <tr style=\"text-align: right;\">\n",
              "      <th></th>\n",
              "      <th>title</th>\n",
              "      <th>topic</th>\n",
              "      <th>date</th>\n",
              "      <th>text</th>\n",
              "    </tr>\n",
              "  </thead>\n",
              "  <tbody>\n",
              "    <tr>\n",
              "      <th>0</th>\n",
              "      <td>Чаллыда яшәүче мөмкинлекләре чикле кешеләр күр...</td>\n",
              "      <td>society</td>\n",
              "      <td>25-11-2020</td>\n",
              "      <td>Чаллының 67 нче мәктәбендә ТАССРның 100 еллыгы...</td>\n",
              "    </tr>\n",
              "    <tr>\n",
              "      <th>1</th>\n",
              "      <td>Актанышта бушлай дарулар бирә башладылар</td>\n",
              "      <td>health</td>\n",
              "      <td>25-11-2020</td>\n",
              "      <td>Актаныш район үзәге һәм авылларда коронавирус ...</td>\n",
              "    </tr>\n",
              "    <tr>\n",
              "      <th>2</th>\n",
              "      <td>Шәле балалар бакчасында татарча курчак спектак...</td>\n",
              "      <td>science</td>\n",
              "      <td>25-11-2020</td>\n",
              "      <td>Питрәч районы Шәле балалар бакчасында татарча ...</td>\n",
              "    </tr>\n",
              "    <tr>\n",
              "      <th>3</th>\n",
              "      <td>Татарстанның җиде зур шәһәрендә бер атна эченд...</td>\n",
              "      <td>society</td>\n",
              "      <td>25-11-2020</td>\n",
              "      <td>Ноябрь дәвамында Татарстанның моношәһәрләрендә...</td>\n",
              "    </tr>\n",
              "    <tr>\n",
              "      <th>4</th>\n",
              "      <td>Татарстанда болытлы һава торышы, кар һәм бозла...</td>\n",
              "      <td>ecology</td>\n",
              "      <td>25-11-2020</td>\n",
              "      <td>26 ноябрьдә республикада кар явуы көтелә, юлла...</td>\n",
              "    </tr>\n",
              "  </tbody>\n",
              "</table>\n",
              "</div>"
            ],
            "text/plain": [
              "                                               title  ...                                               text\n",
              "0  Чаллыда яшәүче мөмкинлекләре чикле кешеләр күр...  ...  Чаллының 67 нче мәктәбендә ТАССРның 100 еллыгы...\n",
              "1           Актанышта бушлай дарулар бирә башладылар  ...  Актаныш район үзәге һәм авылларда коронавирус ...\n",
              "2  Шәле балалар бакчасында татарча курчак спектак...  ...  Питрәч районы Шәле балалар бакчасында татарча ...\n",
              "3  Татарстанның җиде зур шәһәрендә бер атна эченд...  ...  Ноябрь дәвамында Татарстанның моношәһәрләрендә...\n",
              "4  Татарстанда болытлы һава торышы, кар һәм бозла...  ...  26 ноябрьдә республикада кар явуы көтелә, юлла...\n",
              "\n",
              "[5 rows x 4 columns]"
            ]
          },
          "metadata": {
            "tags": []
          },
          "execution_count": 6
        }
      ]
    },
    {
      "cell_type": "code",
      "metadata": {
        "colab": {
          "base_uri": "https://localhost:8080/",
          "height": 669
        },
        "id": "qxhaTBNkQK9q",
        "outputId": "b5712dfb-98be-4a1d-cc8a-a214d7da13e9"
      },
      "source": [
        "data[data.duplicated()]"
      ],
      "execution_count": null,
      "outputs": [
        {
          "output_type": "execute_result",
          "data": {
            "text/html": [
              "<div>\n",
              "<style scoped>\n",
              "    .dataframe tbody tr th:only-of-type {\n",
              "        vertical-align: middle;\n",
              "    }\n",
              "\n",
              "    .dataframe tbody tr th {\n",
              "        vertical-align: top;\n",
              "    }\n",
              "\n",
              "    .dataframe thead th {\n",
              "        text-align: right;\n",
              "    }\n",
              "</style>\n",
              "<table border=\"1\" class=\"dataframe\">\n",
              "  <thead>\n",
              "    <tr style=\"text-align: right;\">\n",
              "      <th></th>\n",
              "      <th>title</th>\n",
              "      <th>topic</th>\n",
              "      <th>date</th>\n",
              "      <th>text</th>\n",
              "    </tr>\n",
              "  </thead>\n",
              "  <tbody>\n",
              "    <tr>\n",
              "      <th>57</th>\n",
              "      <td>Татарстан Дәүләт җыр һәм бию ансамбле Россия ш...</td>\n",
              "      <td>culture</td>\n",
              "      <td>25-11-2020</td>\n",
              "      <td>Татарстан Республикасының Дәүләт җыр һәм бию а...</td>\n",
              "    </tr>\n",
              "    <tr>\n",
              "      <th>451</th>\n",
              "      <td>Биектау районы фермерларына кош гриппын кисәтү...</td>\n",
              "      <td>agriculture</td>\n",
              "      <td>18-11-2020</td>\n",
              "      <td>Биектау ветеринария берләшмәсе ветеринары Лили...</td>\n",
              "    </tr>\n",
              "    <tr>\n",
              "      <th>1876</th>\n",
              "      <td>Азнакайда яшәүче 15 гаилә фатирга сертификатла...</td>\n",
              "      <td>society</td>\n",
              "      <td>21-10-2020</td>\n",
              "      <td>Азнакай республикада төрле категория гражданна...</td>\n",
              "    </tr>\n",
              "    <tr>\n",
              "      <th>2132</th>\n",
              "      <td>Татарстан юлында «Газель» шоферы руль артында ...</td>\n",
              "      <td>incident</td>\n",
              "      <td>16-10-2020</td>\n",
              "      <td>Татарстан трассасында «Газель» шоферы руль арт...</td>\n",
              "    </tr>\n",
              "    <tr>\n",
              "      <th>2677</th>\n",
              "      <td>Чаллыда пациентның аортасы өзелүдән саклап кал...</td>\n",
              "      <td>health</td>\n",
              "      <td>06-10-2020</td>\n",
              "      <td>аллыда Ашыгыч медицина ярдәме хастаханәсендә а...</td>\n",
              "    </tr>\n",
              "    <tr>\n",
              "      <th>3047</th>\n",
              "      <td>Балаларга 10 мең сум пособиегә гариза язу өчен...</td>\n",
              "      <td>society</td>\n",
              "      <td>29-09-2020</td>\n",
              "      <td>Россия Президентының указлары нигезендә 3 яшьк...</td>\n",
              "    </tr>\n",
              "    <tr>\n",
              "      <th>5346</th>\n",
              "      <td>Саба районында яшәүче хатынның алимент буенча ...</td>\n",
              "      <td>incident</td>\n",
              "      <td>22-08-2020</td>\n",
              "      <td>Саба районында яшәүче 34 яшьлек хатынның балал...</td>\n",
              "    </tr>\n",
              "    <tr>\n",
              "      <th>10276</th>\n",
              "      <td>Кытайның 45 абитуриенты Казан федераль универс...</td>\n",
              "      <td>science</td>\n",
              "      <td>15-05-2020</td>\n",
              "      <td>Кытай шәһәрләре мәктәпләрендә дистанцион рәвеш...</td>\n",
              "    </tr>\n",
              "    <tr>\n",
              "      <th>12322</th>\n",
              "      <td>«Кардәш каләмнәр» төрки дөнья журналының яңа с...</td>\n",
              "      <td>tatar_world</td>\n",
              "      <td>05-04-2020</td>\n",
              "      <td>Анкарада нәшер ителүче төрки дөньяның әдәбият ...</td>\n",
              "    </tr>\n",
              "    <tr>\n",
              "      <th>12325</th>\n",
              "      <td>Роспотребнадзор: Яңа коронавирус 96 процент оч...</td>\n",
              "      <td>health</td>\n",
              "      <td>05-04-2020</td>\n",
              "      <td>96 процент очракта Cоvid-19 коронавирус инфекц...</td>\n",
              "    </tr>\n",
              "    <tr>\n",
              "      <th>14295</th>\n",
              "      <td>Кариев театрында бер генә данә дә гаилә абонем...</td>\n",
              "      <td>culture</td>\n",
              "      <td>26-02-2020</td>\n",
              "      <td>Гаиләләрне театрга тарту максатыннан кертелгән...</td>\n",
              "    </tr>\n",
              "    <tr>\n",
              "      <th>15890</th>\n",
              "      <td>Нижневартовскида татар иҗтимагый оешмалары җит...</td>\n",
              "      <td>tatar_world</td>\n",
              "      <td>27-01-2020</td>\n",
              "      <td>Бөтендөнья татар конгрессы Федераль округларда...</td>\n",
              "    </tr>\n",
              "    <tr>\n",
              "      <th>18530</th>\n",
              "      <td>Гүзәл Яхинаның \"Балаларым\" романы \"Большая кни...</td>\n",
              "      <td>culture</td>\n",
              "      <td>03-12-2019</td>\n",
              "      <td>Язучы Гүзәл Яхинаның \"Балаларым\" романы \"Больш...</td>\n",
              "    </tr>\n",
              "    <tr>\n",
              "      <th>39179</th>\n",
              "      <td>Рөстәм Миңнеханов эшкуарлыкны үстерүдә Татарст...</td>\n",
              "      <td>business</td>\n",
              "      <td>11-12-2018</td>\n",
              "      <td>Бүген Татарстан Президенты Рөстәм Миңнеханов М...</td>\n",
              "    </tr>\n",
              "    <tr>\n",
              "      <th>39840</th>\n",
              "      <td>Васил Шәйхразиев Милли Шура утырышында Татарст...</td>\n",
              "      <td>tatar_world</td>\n",
              "      <td>29-11-2018</td>\n",
              "      <td>Бөтендөнья татар конгрессының Милли Шура рәисе...</td>\n",
              "    </tr>\n",
              "    <tr>\n",
              "      <th>39875</th>\n",
              "      <td>Казанда Суга сикерү буенча Татарстан Республик...</td>\n",
              "      <td>sport</td>\n",
              "      <td>29-11-2018</td>\n",
              "      <td>Казанда 1 декабрьдән 4 декабрьгә кадәр Су спор...</td>\n",
              "    </tr>\n",
              "    <tr>\n",
              "      <th>40236</th>\n",
              "      <td>Мәскәүдә татар милли-мәдәни мохтариятләре киңә...</td>\n",
              "      <td>tatar_world</td>\n",
              "      <td>22-11-2018</td>\n",
              "      <td>Бүген Мәскәүдә Россия Федерациясенең татар мил...</td>\n",
              "    </tr>\n",
              "    <tr>\n",
              "      <th>42460</th>\n",
              "      <td>Казан “Төнге велофест”ты катнашучылары сезонны...</td>\n",
              "      <td>society</td>\n",
              "      <td>14-10-2018</td>\n",
              "      <td>Казанда кичә төнлә берничә йөз велосипедчы баш...</td>\n",
              "    </tr>\n",
              "    <tr>\n",
              "      <th>57848</th>\n",
              "      <td>Рөстәм Миңнеханов Әлмәттә сөтчелек комплексынд...</td>\n",
              "      <td>official</td>\n",
              "      <td>07-02-2018</td>\n",
              "      <td>Татарстан Президенты Рөстәм Миңнеханов бүген Н...</td>\n",
              "    </tr>\n",
              "    <tr>\n",
              "      <th>60042</th>\n",
              "      <td>Аксубай мәктәп укучылары халыкара ораторлык ос...</td>\n",
              "      <td>society</td>\n",
              "      <td>30-12-2017</td>\n",
              "      <td>Аксубай мәктәп укучылары халыкара ораторлык ос...</td>\n",
              "    </tr>\n",
              "    <tr>\n",
              "      <th>60366</th>\n",
              "      <td>Яңа ел төнендә Казанның җәмәгать транспорты тө...</td>\n",
              "      <td>archive</td>\n",
              "      <td>25-12-2017</td>\n",
              "      <td>31 декабрьдә Казан автобуслары, троллейбуслары...</td>\n",
              "    </tr>\n",
              "  </tbody>\n",
              "</table>\n",
              "</div>"
            ],
            "text/plain": [
              "                                                   title  ...                                               text\n",
              "57     Татарстан Дәүләт җыр һәм бию ансамбле Россия ш...  ...  Татарстан Республикасының Дәүләт җыр һәм бию а...\n",
              "451    Биектау районы фермерларына кош гриппын кисәтү...  ...  Биектау ветеринария берләшмәсе ветеринары Лили...\n",
              "1876   Азнакайда яшәүче 15 гаилә фатирга сертификатла...  ...  Азнакай республикада төрле категория гражданна...\n",
              "2132   Татарстан юлында «Газель» шоферы руль артында ...  ...  Татарстан трассасында «Газель» шоферы руль арт...\n",
              "2677   Чаллыда пациентның аортасы өзелүдән саклап кал...  ...  аллыда Ашыгыч медицина ярдәме хастаханәсендә а...\n",
              "3047   Балаларга 10 мең сум пособиегә гариза язу өчен...  ...  Россия Президентының указлары нигезендә 3 яшьк...\n",
              "5346   Саба районында яшәүче хатынның алимент буенча ...  ...  Саба районында яшәүче 34 яшьлек хатынның балал...\n",
              "10276  Кытайның 45 абитуриенты Казан федераль универс...  ...  Кытай шәһәрләре мәктәпләрендә дистанцион рәвеш...\n",
              "12322  «Кардәш каләмнәр» төрки дөнья журналының яңа с...  ...  Анкарада нәшер ителүче төрки дөньяның әдәбият ...\n",
              "12325  Роспотребнадзор: Яңа коронавирус 96 процент оч...  ...  96 процент очракта Cоvid-19 коронавирус инфекц...\n",
              "14295  Кариев театрында бер генә данә дә гаилә абонем...  ...  Гаиләләрне театрга тарту максатыннан кертелгән...\n",
              "15890  Нижневартовскида татар иҗтимагый оешмалары җит...  ...  Бөтендөнья татар конгрессы Федераль округларда...\n",
              "18530  Гүзәл Яхинаның \"Балаларым\" романы \"Большая кни...  ...  Язучы Гүзәл Яхинаның \"Балаларым\" романы \"Больш...\n",
              "39179  Рөстәм Миңнеханов эшкуарлыкны үстерүдә Татарст...  ...  Бүген Татарстан Президенты Рөстәм Миңнеханов М...\n",
              "39840  Васил Шәйхразиев Милли Шура утырышында Татарст...  ...  Бөтендөнья татар конгрессының Милли Шура рәисе...\n",
              "39875  Казанда Суга сикерү буенча Татарстан Республик...  ...  Казанда 1 декабрьдән 4 декабрьгә кадәр Су спор...\n",
              "40236  Мәскәүдә татар милли-мәдәни мохтариятләре киңә...  ...  Бүген Мәскәүдә Россия Федерациясенең татар мил...\n",
              "42460  Казан “Төнге велофест”ты катнашучылары сезонны...  ...  Казанда кичә төнлә берничә йөз велосипедчы баш...\n",
              "57848  Рөстәм Миңнеханов Әлмәттә сөтчелек комплексынд...  ...  Татарстан Президенты Рөстәм Миңнеханов бүген Н...\n",
              "60042  Аксубай мәктәп укучылары халыкара ораторлык ос...  ...  Аксубай мәктәп укучылары халыкара ораторлык ос...\n",
              "60366  Яңа ел төнендә Казанның җәмәгать транспорты тө...  ...  31 декабрьдә Казан автобуслары, троллейбуслары...\n",
              "\n",
              "[21 rows x 4 columns]"
            ]
          },
          "metadata": {
            "tags": []
          },
          "execution_count": 7
        }
      ]
    },
    {
      "cell_type": "code",
      "metadata": {
        "colab": {
          "base_uri": "https://localhost:8080/",
          "height": 47
        },
        "id": "wzV93IRcQHzM",
        "outputId": "38162b88-8164-4e20-cba0-14b852d66ca2"
      },
      "source": [
        "data = data.drop_duplicates().reset_index(drop=True)\n",
        "data[data.duplicated()]"
      ],
      "execution_count": null,
      "outputs": [
        {
          "output_type": "execute_result",
          "data": {
            "text/html": [
              "<div>\n",
              "<style scoped>\n",
              "    .dataframe tbody tr th:only-of-type {\n",
              "        vertical-align: middle;\n",
              "    }\n",
              "\n",
              "    .dataframe tbody tr th {\n",
              "        vertical-align: top;\n",
              "    }\n",
              "\n",
              "    .dataframe thead th {\n",
              "        text-align: right;\n",
              "    }\n",
              "</style>\n",
              "<table border=\"1\" class=\"dataframe\">\n",
              "  <thead>\n",
              "    <tr style=\"text-align: right;\">\n",
              "      <th></th>\n",
              "      <th>title</th>\n",
              "      <th>topic</th>\n",
              "      <th>date</th>\n",
              "      <th>text</th>\n",
              "    </tr>\n",
              "  </thead>\n",
              "  <tbody>\n",
              "  </tbody>\n",
              "</table>\n",
              "</div>"
            ],
            "text/plain": [
              "Empty DataFrame\n",
              "Columns: [title, topic, date, text]\n",
              "Index: []"
            ]
          },
          "metadata": {
            "tags": []
          },
          "execution_count": 8
        }
      ]
    },
    {
      "cell_type": "code",
      "metadata": {
        "colab": {
          "base_uri": "https://localhost:8080/",
          "height": 451
        },
        "id": "uUxje07wr6TU",
        "outputId": "e715c3dc-242b-4364-a589-ece797f85cc6"
      },
      "source": [
        "plt.subplots(figsize=(15,6))\r\n",
        "sns.countplot(x='topic', data=data, palette='inferno',\r\n",
        "              order=data['topic'].value_counts().index)\r\n",
        "plt.xticks(rotation=90)\r\n",
        "plt.title('Number of topics')\r\n",
        "plt.show()"
      ],
      "execution_count": null,
      "outputs": [
        {
          "output_type": "display_data",
          "data": {
            "image/png": "[encoded data removed]",
            "text/plain": [
              "<Figure size 1080x432 with 1 Axes>"
            ]
          },
          "metadata": {
            "tags": []
          }
        }
      ]
    },
    {
      "cell_type": "code",
      "metadata": {
        "id": "kxxQpeX7ttcH"
      },
      "source": [
        "selected_topics = ['culture', 'incident', 'sport', 'agriculture', 'religion']"
      ],
      "execution_count": null,
      "outputs": []
    },
    {
      "cell_type": "code",
      "metadata": {
        "id": "Xbk4Q8sYshoh"
      },
      "source": [
        "data = data[data['topic'].isin(selected_topics)]\r\n",
        "data.reset_index(drop=True, inplace=True)"
      ],
      "execution_count": null,
      "outputs": []
    },
    {
      "cell_type": "code",
      "metadata": {
        "id": "QgWKs_bJC3_x"
      },
      "source": [
        "stops = set(pd.read_csv('dataset/stopwords_tt.csv',\r\n",
        "                        encoding='utf-8',\r\n",
        "                        names=[\"words\"])['words'].tolist())"
      ],
      "execution_count": null,
      "outputs": []
    },
    {
      "cell_type": "code",
      "metadata": {
        "id": "KurLewWyu6Lp"
      },
      "source": [
        "def reduce_affix(text, affixes,to='_'):\r\n",
        "    regex = '|'.join(affixes)\r\n",
        "    regex = f'({regex})'\r\n",
        "    regex = regex+r'\\b'\r\n",
        "    \r\n",
        "    reduced = re.sub(regex, to, text)\r\n",
        "    return reduced\r\n",
        "\r\n",
        "figil_shart_barlik_affix = 'сам саң са сак сагыз салар'.split()\r\n",
        "figil_shart_yuklik_affix = ['ма'+a for a in figil_shart_barlik_affix ]\r\n",
        "figil_past_definite_affix = 'дым дем дың дең ды де дык дек дылар деләр дыгыз дегез'.split()\r\n",
        "figil_past_indefinite_affix = 'ганмын гәнмен ганбыз гәнбез гансың гәнсең гансыз гәнсез ган гән ганнар гәннәр'.split()\r\n",
        "figil_present_affix = 'на нә м мын мен быз без сың сең сыз сез лар ләр нәр нәр'.split()\r\n",
        "figil_future_affix = 'ыр ер ар әр'\r\n",
        "\r\n",
        "ravesh_affix = 'ып еп'.split()\r\n",
        "\r\n",
        "kilesh = ['']+'ның нең га гә ка кә ны не дан дән тан тән да дә та тә'.split()\r\n",
        "tartim = ['']+'ен ым ем ың ең ы е м ң сы се ыбыз ебез ыгыз егез быз без гыз гез'.split()\r\n",
        "san = ['']+'лар ләр нар нәр'.split()\r\n",
        "\r\n",
        "comparative_affix = 'рак рәк'.split()\r\n",
        "tartim_siyfat = 'гы ге'.split()\r\n",
        "\r\n",
        "\r\n",
        "def preprocess_text(text):\r\n",
        "    \"\"\"Text preprocessing regular expression\"\"\"\r\n",
        "    #text = ' '.join(word.lower() for word in text.split(\" \"))\r\n",
        "    text = re.sub(r\"([.,!?])\", r\" \\1 \", text)\r\n",
        "    text = re.sub(r\"[^аәбвгдеёжҗзийклмнңоөпрстуүфхһцчшщъыьэюяa-zA-Z]+\", r\" \", text)\r\n",
        "\r\n",
        "    text = reduce_affix(text, ravesh_affix)\r\n",
        "\r\n",
        "    text = reduce_affix(text, comparative_affix)\r\n",
        "    text = reduce_affix(text, tartim_siyfat)\r\n",
        "\r\n",
        "    text = reduce_affix(text, kilesh, to=' ')\r\n",
        "    text = reduce_affix(text, tartim, to =' ')\r\n",
        "    text = reduce_affix(text, san)\r\n",
        "\r\n",
        "    text = reduce_affix(text, figil_past_definite_affix)\r\n",
        "    text = reduce_affix(text, figil_past_indefinite_affix)\r\n",
        "    text = reduce_affix(text, figil_shart_yuklik_affix)\r\n",
        "    text = reduce_affix(text, figil_shart_barlik_affix)\r\n",
        "    text = reduce_affix(text, figil_present_affix)\r\n",
        "\r\n",
        "    text = re.sub(r'\\s+', ' ', text).strip()\r\n",
        "    text = re.sub(r'_+', '', text).strip()\r\n",
        "    return text\r\n",
        "\r\n",
        "def remove_stopwords(text):\r\n",
        "    splitted = text.split()\r\n",
        "    return \" \".join([word for word in splitted if word not in stops and len(word)>1])"
      ],
      "execution_count": null,
      "outputs": []
    },
    {
      "cell_type": "code",
      "metadata": {
        "colab": {
          "base_uri": "https://localhost:8080/"
        },
        "id": "2YACJDyGwuYS",
        "outputId": "91a1560d-be40-42aa-f75c-33485fd32557"
      },
      "source": [
        "print(data['text'].loc[0].lower())\r\n",
        "print(preprocess_text(data['text'].loc[0].lower()))"
      ],
      "execution_count": null,
      "outputs": [
        {
          "output_type": "stream",
          "text": [
            "бүген казанның «ак барс» командасы магнитогорск шәһәрендә «металлург» хоккейчыларын 3:2 исәбе белән җиңде.«ак барс»ның капкасын, җәрәхәт алу сәбәпле, бер айдан артык уйнамаган тимур билалов саклады, моңа хәтле ул бозга 10 октябрь «нефтехимик»ка каршы уенда чыккан иде.беренче период. унбишенче минутта «ак барс» һөҗүмчесе найджел доус исәпне ачты (0:1).икенче период. өченче минутта артём лукоянов «металлург» капкасына алка кертте, тик видеокабатлаудан соң алканың көндәш команда мәйданына дөрес кермәгәне ачыкланды, гол исәпләнмәде. дүртенче минутта, «ак барс» азчылыкта уйнаганда, «металлург» капитаны сергей мозякин алка кертте, әлеге голны раслар өчен дә видеокабатлау соралды, алка исәпкә алынды (1:1).өченче период. җиденче минутта «металлург» һөҗүмчесе максим карпов гол кертте (2:1). тугызынчы минутта алка «металлург» капкасына үз команда сакчысына бәрелеп керде, гол михаил глухов исәбенә язылды (2:2).өч период тигез исәп белән тәмамланды, өстәмә вакыт — овертаймда да тигез исәп сакланды. буллит бәрү сериясендә «ак барс» командасы өстенлекне алды һәм әлеге матчта җиңү яулады (2:3). буллит бәрүләрдә «металлург» капкасына ике алканы найджел доус кертте, көндәш командадан бер алканы егор яковлев кертте (2:3).командалар составы:«металлург»кошечкин (олкинуора);песонен — расмуссен — бек, яковлев — сёмин;карпов — прохоркин — плотников, пашнин — минулин;мозякин — нестрашил — чибисов, николаев — земчёнок;потехин — неколенко — швырёв (юров), хлыстов.«ак барс»билалов (рейдеборн);воронков — азеведо — зарипов, юдин — лямкин;доус — да коста — тихонов, педан — викстранд;лукоянов — бурмистров — глухов, журавлёв — хенкель;петров — кормье — галиев (сафонов), рукавишников.«ак барс» киләсе уенын казанда «татнефть-арена» боз сараенда үткәрәчәк. «ак барс» — «северсталь» матчы 29 ноябрь көнне 17:00 сәгатьтә башлана.\n",
            "бүг казан ак барс команда магнитогорск шәһәр металлург хоккейчыларын исәб белән җиңд ак барс н капкасын җәрәхәт алу сәбәпл бер ай артык уйнамаган тимур билалов саклад моңа хәтл ул боз октябрь нефтехимик ка карш у чыккан ид беренч период унбишенч минут ак барс һөҗүмче найджел доус исәп ачт икенч период өченч минут артё лукоянов металлург капкасына ал кертт тик видеокабатлау со алка көндәш коман мәйданына дөрес кермәгә ачыкланд гол исәпләнмәд дүртенч минут ак барс азчылык уйнаган металлург капита сергей мозякин ал кертт әле гол рас өч дә видеокабатлау соралд ал исәп алынд өченч период җиденч минут металлург һөҗүмче макси карпов гол кертт тугызынч минут ал металлург капкасына үз коман сакчысына бәрел керд гол михаил глухов исәбенә язылд өч период ти исәп белән тәмамланд өстәмә вакыт овертай да ти исәп сакланд буллит бәрү серияс ак барс команда өстенлек алд һә әле матч җиңү яулад буллит бәрү металлург капкасына ик алка найджел доус кертт көндәш команда бер алка егор яковлев кертт команда состав металлург кошечкин олкинуора песон расмусс бек яковлев сёмин карпов прохоркин плотников пашнин минулин мозякин нестрашил чибисов николаев земчёнок потехин неколенко швырёв юров хлыстов ак барс билалов рейдеборн воронков азеведо зарипов юдин лямкин доус да кос тихонов п викстранд лукоянов бурмистров глухов журавлёв хенкель петров кормь галиев сафонов рукавишников ак барс килә уенын казан татнефть арена боз сара үткәрәчәк ак барс северсталь матч ноябрь көн сәгать башлана\n"
          ],
          "name": "stdout"
        }
      ]
    },
    {
      "cell_type": "code",
      "metadata": {
        "id": "1M2FJ9vnw1Ka"
      },
      "source": [
        "data_processed = data[['text', 'topic']].copy()"
      ],
      "execution_count": null,
      "outputs": []
    },
    {
      "cell_type": "code",
      "metadata": {
        "colab": {
          "base_uri": "https://localhost:8080/",
          "height": 195
        },
        "id": "kLCIBO4sJdR5",
        "outputId": "6000255c-69c3-4f4f-b258-bbd90ccfcd88"
      },
      "source": [
        "data_processed.head()"
      ],
      "execution_count": null,
      "outputs": [
        {
          "output_type": "execute_result",
          "data": {
            "text/html": [
              "<div>\n",
              "<style scoped>\n",
              "    .dataframe tbody tr th:only-of-type {\n",
              "        vertical-align: middle;\n",
              "    }\n",
              "\n",
              "    .dataframe tbody tr th {\n",
              "        vertical-align: top;\n",
              "    }\n",
              "\n",
              "    .dataframe thead th {\n",
              "        text-align: right;\n",
              "    }\n",
              "</style>\n",
              "<table border=\"1\" class=\"dataframe\">\n",
              "  <thead>\n",
              "    <tr style=\"text-align: right;\">\n",
              "      <th></th>\n",
              "      <th>text</th>\n",
              "      <th>topic</th>\n",
              "    </tr>\n",
              "  </thead>\n",
              "  <tbody>\n",
              "    <tr>\n",
              "      <th>0</th>\n",
              "      <td>Бүген Казанның «Ак Барс» командасы Магнитогорс...</td>\n",
              "      <td>sport</td>\n",
              "    </tr>\n",
              "    <tr>\n",
              "      <th>1</th>\n",
              "      <td>Татарстанда ЮХИДИ машина йөртүчеләрне җәйге ре...</td>\n",
              "      <td>incident</td>\n",
              "    </tr>\n",
              "    <tr>\n",
              "      <th>2</th>\n",
              "      <td>27 һәм 28 ноябрьдә Г. Кариев исемендәге Казан ...</td>\n",
              "      <td>culture</td>\n",
              "    </tr>\n",
              "    <tr>\n",
              "      <th>3</th>\n",
              "      <td>«Хозур ТВ» YouTube рәсми каналына язылучылар с...</td>\n",
              "      <td>religion</td>\n",
              "    </tr>\n",
              "    <tr>\n",
              "      <th>4</th>\n",
              "      <td>Чаллыда урын өстендә яткан авыру әнисен кыйнап...</td>\n",
              "      <td>incident</td>\n",
              "    </tr>\n",
              "  </tbody>\n",
              "</table>\n",
              "</div>"
            ],
            "text/plain": [
              "                                                text     topic\n",
              "0  Бүген Казанның «Ак Барс» командасы Магнитогорс...     sport\n",
              "1  Татарстанда ЮХИДИ машина йөртүчеләрне җәйге ре...  incident\n",
              "2  27 һәм 28 ноябрьдә Г. Кариев исемендәге Казан ...   culture\n",
              "3  «Хозур ТВ» YouTube рәсми каналына язылучылар с...  religion\n",
              "4  Чаллыда урын өстендә яткан авыру әнисен кыйнап...  incident"
            ]
          },
          "metadata": {
            "tags": []
          },
          "execution_count": 80
        }
      ]
    },
    {
      "cell_type": "code",
      "metadata": {
        "id": "QpG8cmLq27IF"
      },
      "source": [
        "data_processed.loc[:, 'text'] = data_processed['text'].apply(lambda x: x.lower())\r\n",
        "data_processed.loc[:, 'text'] = data_processed['text'].apply(remove_stopwords)\r\n",
        "data_processed.loc[:, 'text'] = data_processed['text'].apply(preprocess_text)\r\n",
        "data_processed.loc[:, 'text'] = data_processed['text'].apply(remove_stopwords)"
      ],
      "execution_count": null,
      "outputs": []
    },
    {
      "cell_type": "code",
      "metadata": {
        "colab": {
          "base_uri": "https://localhost:8080/",
          "height": 195
        },
        "id": "Ow1nc7DQ284g",
        "outputId": "c6529d3a-02b7-43df-aa06-ad48c4be0502"
      },
      "source": [
        "data_processed.head()"
      ],
      "execution_count": null,
      "outputs": [
        {
          "output_type": "execute_result",
          "data": {
            "text/html": [
              "<div>\n",
              "<style scoped>\n",
              "    .dataframe tbody tr th:only-of-type {\n",
              "        vertical-align: middle;\n",
              "    }\n",
              "\n",
              "    .dataframe tbody tr th {\n",
              "        vertical-align: top;\n",
              "    }\n",
              "\n",
              "    .dataframe thead th {\n",
              "        text-align: right;\n",
              "    }\n",
              "</style>\n",
              "<table border=\"1\" class=\"dataframe\">\n",
              "  <thead>\n",
              "    <tr style=\"text-align: right;\">\n",
              "      <th></th>\n",
              "      <th>text</th>\n",
              "      <th>topic</th>\n",
              "    </tr>\n",
              "  </thead>\n",
              "  <tbody>\n",
              "    <tr>\n",
              "      <th>0</th>\n",
              "      <td>бүг казан ак барс команда магнитогорск шәһәр м...</td>\n",
              "      <td>sport</td>\n",
              "    </tr>\n",
              "    <tr>\n",
              "      <th>1</th>\n",
              "      <td>татарстан юхиди машина йөртүче җәй резина кышк...</td>\n",
              "      <td>incident</td>\n",
              "    </tr>\n",
              "    <tr>\n",
              "      <th>2</th>\n",
              "      <td>ноябрь кариев исемендә казан татар дәүләт тама...</td>\n",
              "      <td>culture</td>\n",
              "    </tr>\n",
              "    <tr>\n",
              "      <th>3</th>\n",
              "      <td>хозур тв youtube рәсми каналына язылучы са мил...</td>\n",
              "      <td>religion</td>\n",
              "    </tr>\n",
              "    <tr>\n",
              "      <th>4</th>\n",
              "      <td>чалл урын өст яткан авыру әнис кыйнап үтергән ...</td>\n",
              "      <td>incident</td>\n",
              "    </tr>\n",
              "  </tbody>\n",
              "</table>\n",
              "</div>"
            ],
            "text/plain": [
              "                                                text     topic\n",
              "0  бүг казан ак барс команда магнитогорск шәһәр м...     sport\n",
              "1  татарстан юхиди машина йөртүче җәй резина кышк...  incident\n",
              "2  ноябрь кариев исемендә казан татар дәүләт тама...   culture\n",
              "3  хозур тв youtube рәсми каналына язылучы са мил...  religion\n",
              "4  чалл урын өст яткан авыру әнис кыйнап үтергән ...  incident"
            ]
          },
          "metadata": {
            "tags": []
          },
          "execution_count": 82
        }
      ]
    },
    {
      "cell_type": "code",
      "metadata": {
        "colab": {
          "base_uri": "https://localhost:8080/"
        },
        "id": "S_uQXF9-SQcL",
        "outputId": "b17da4eb-24a9-40a4-ebbc-5ae48a34bd09"
      },
      "source": [
        "mapper = {topic: num for num, topic in enumerate(selected_topics)}\r\n",
        "mapper"
      ],
      "execution_count": null,
      "outputs": [
        {
          "output_type": "execute_result",
          "data": {
            "text/plain": [
              "{'agriculture': 3, 'culture': 0, 'incident': 1, 'religion': 4, 'sport': 2}"
            ]
          },
          "metadata": {
            "tags": []
          },
          "execution_count": 83
        }
      ]
    },
    {
      "cell_type": "code",
      "metadata": {
        "colab": {
          "base_uri": "https://localhost:8080/",
          "height": 195
        },
        "id": "T5UcMR78CJEH",
        "outputId": "3eb537b0-69ae-46b7-ab24-7d2672e35da3"
      },
      "source": [
        "data_processed.loc[:, 'topic'] = data_processed['topic'].apply(lambda x: mapper[x])\r\n",
        "data_processed.head()"
      ],
      "execution_count": null,
      "outputs": [
        {
          "output_type": "execute_result",
          "data": {
            "text/html": [
              "<div>\n",
              "<style scoped>\n",
              "    .dataframe tbody tr th:only-of-type {\n",
              "        vertical-align: middle;\n",
              "    }\n",
              "\n",
              "    .dataframe tbody tr th {\n",
              "        vertical-align: top;\n",
              "    }\n",
              "\n",
              "    .dataframe thead th {\n",
              "        text-align: right;\n",
              "    }\n",
              "</style>\n",
              "<table border=\"1\" class=\"dataframe\">\n",
              "  <thead>\n",
              "    <tr style=\"text-align: right;\">\n",
              "      <th></th>\n",
              "      <th>text</th>\n",
              "      <th>topic</th>\n",
              "    </tr>\n",
              "  </thead>\n",
              "  <tbody>\n",
              "    <tr>\n",
              "      <th>0</th>\n",
              "      <td>бүг казан ак барс команда магнитогорск шәһәр м...</td>\n",
              "      <td>2</td>\n",
              "    </tr>\n",
              "    <tr>\n",
              "      <th>1</th>\n",
              "      <td>татарстан юхиди машина йөртүче җәй резина кышк...</td>\n",
              "      <td>1</td>\n",
              "    </tr>\n",
              "    <tr>\n",
              "      <th>2</th>\n",
              "      <td>ноябрь кариев исемендә казан татар дәүләт тама...</td>\n",
              "      <td>0</td>\n",
              "    </tr>\n",
              "    <tr>\n",
              "      <th>3</th>\n",
              "      <td>хозур тв youtube рәсми каналына язылучы са мил...</td>\n",
              "      <td>4</td>\n",
              "    </tr>\n",
              "    <tr>\n",
              "      <th>4</th>\n",
              "      <td>чалл урын өст яткан авыру әнис кыйнап үтергән ...</td>\n",
              "      <td>1</td>\n",
              "    </tr>\n",
              "  </tbody>\n",
              "</table>\n",
              "</div>"
            ],
            "text/plain": [
              "                                                text  topic\n",
              "0  бүг казан ак барс команда магнитогорск шәһәр м...      2\n",
              "1  татарстан юхиди машина йөртүче җәй резина кышк...      1\n",
              "2  ноябрь кариев исемендә казан татар дәүләт тама...      0\n",
              "3  хозур тв youtube рәсми каналына язылучы са мил...      4\n",
              "4  чалл урын өст яткан авыру әнис кыйнап үтергән ...      1"
            ]
          },
          "metadata": {
            "tags": []
          },
          "execution_count": 84
        }
      ]
    },
    {
      "cell_type": "code",
      "metadata": {
        "id": "Tnz3LvJpWA2f"
      },
      "source": [
        "data_processed.loc[:, 'text'] = data_processed['text'].apply(lambda x: x.split())"
      ],
      "execution_count": null,
      "outputs": []
    },
    {
      "cell_type": "code",
      "metadata": {
        "id": "J_0_P6X_Shsw"
      },
      "source": [
        "train, test = train_test_split(data_processed, random_state=0, test_size=0.2)"
      ],
      "execution_count": null,
      "outputs": []
    },
    {
      "cell_type": "markdown",
      "metadata": {
        "id": "XhsWQSTvXR0X"
      },
      "source": [
        "## LDA"
      ]
    },
    {
      "cell_type": "code",
      "metadata": {
        "id": "HNjFBIauL0Rt"
      },
      "source": [
        "def create_vocab(vocab_file_path, tokenized_texts, max_size=100000):\r\n",
        "    word_counts = collections.defaultdict(int)\r\n",
        "    \r\n",
        "    total_words = 0\r\n",
        "    docs = 0\r\n",
        "    \r\n",
        "    for txt in tqdm(tokenized_texts, desc=\"Creating vocab\"):\r\n",
        "        docs += 1\r\n",
        "        for word in set(txt):\r\n",
        "            word_counts[word] += 1\r\n",
        "            total_words += 1\r\n",
        "    \r\n",
        "    \r\n",
        "    sorted_word_counts = sorted(word_counts.items(),\r\n",
        "                                reverse=True, key=lambda pair: pair[1])\r\n",
        "    sorted_word_counts = [('<pad>', 0), ('<unk>', 0)] + sorted_word_counts\r\n",
        "\r\n",
        "    if len(word_counts) > max_size:\r\n",
        "        sorted_word_counts = sorted_word_counts[:max_size]\r\n",
        "        \r\n",
        "    word2id = {word: i for i, (word, _) in enumerate(sorted_word_counts)}\r\n",
        "    id2word = {i: word for i, (word, _) in enumerate(sorted_word_counts)}\r\n",
        "    \r\n",
        "    word2freq = np.array([cnt / docs for _, cnt in sorted_word_counts])\r\n",
        "        \r\n",
        "    vocab_file = open(vocab_file_path, mode='w', encoding='utf8')\r\n",
        "    for word, _ in tqdm(sorted_word_counts, desc=\"to file\"):\r\n",
        "        vocab_file.write(word +'\\n')\r\n",
        "    vocab_file.close()\r\n",
        "\r\n",
        "    return word2id, id2word, sorted_word_counts, word2freq"
      ],
      "execution_count": null,
      "outputs": []
    },
    {
      "cell_type": "code",
      "metadata": {
        "colab": {
          "base_uri": "https://localhost:8080/"
        },
        "id": "hMdD1aSGQdPC",
        "outputId": "1904b0ab-ef7d-4889-b52d-f87eddd524f5"
      },
      "source": [
        "word2id, id2word, vocab, word2freq = create_vocab('lda/vocab', train['text'],\r\n",
        "                                                  max_size=24576) "
      ],
      "execution_count": null,
      "outputs": [
        {
          "output_type": "stream",
          "text": [
            "Creating vocab: 100%|██████████| 18449/18449 [00:00<00:00, 32727.30it/s]\n",
            "to file: 100%|██████████| 24576/24576 [00:00<00:00, 987443.39it/s]\n"
          ],
          "name": "stderr"
        }
      ]
    },
    {
      "cell_type": "code",
      "metadata": {
        "id": "ePApdb_6VVOJ"
      },
      "source": [
        "id2word_corpora = corpora.Dictionary(train['text'].values, prune_at=24576)\r\n",
        "corpus_train = [id2word_corpora.doc2bow(text) for text in train['text'].values]\r\n",
        "corpus_test = [id2word_corpora.doc2bow(text) for text in test['text'].values]"
      ],
      "execution_count": null,
      "outputs": []
    },
    {
      "cell_type": "code",
      "metadata": {
        "id": "KdH1CHhTWxV_"
      },
      "source": [
        "tat_lda_model = LdaMulticore(corpus=corpus_train,\r\n",
        "                             id2word=id2word_corpora,\r\n",
        "                             num_topics=15,\r\n",
        "                             random_state=0,\r\n",
        "                             chunksize=100,\r\n",
        "                             passes=15,\r\n",
        "                             alpha=0.05,\r\n",
        "                             eta=0.1,\r\n",
        "                             iterations=1000,\r\n",
        "                             per_word_topics=True,)"
      ],
      "execution_count": null,
      "outputs": []
    },
    {
      "cell_type": "code",
      "metadata": {
        "colab": {
          "base_uri": "https://localhost:8080/"
        },
        "id": "wZKSbrkcXC70",
        "outputId": "74468e92-6f95-4898-feee-aee364b453c7"
      },
      "source": [
        "pprint(tat_lda_model.print_topics())"
      ],
      "execution_count": null,
      "outputs": [
        {
          "output_type": "stream",
          "text": [
            "[(0,\n",
            "  '0.041*\"район\" + 0.018*\"басма\" + 0.017*\"райо\" + 0.016*\"урын\" + 0.013*\"җирл\" '\n",
            "  '+ 0.012*\"тур\" + 0.011*\"яза\" + 0.010*\"авыл\" + 0.010*\"түбән\" + 0.009*\"башлы\"'),\n",
            " (1,\n",
            "  '0.019*\"татарс\" + 0.013*\"татар\" + 0.011*\"казан\" + 0.011*\"чара\" + 0.010*\"хак\" '\n",
            "  '+ 0.010*\"республика\" + 0.010*\"мәдәният\" + 0.010*\"россия\" + 0.009*\"шәһәр\" + '\n",
            "  '0.008*\"матбугат\"'),\n",
            " (2,\n",
            "  '0.084*\"театр\" + 0.028*\"башлана\" + 0.026*\"спектакль\" + 0.026*\"театрын\" + '\n",
            "  '0.020*\"исемендә\" + 0.020*\"камал\" + 0.019*\"дәүләт\" + 0.018*\"татар\" + '\n",
            "  '0.015*\"артист\" + 0.014*\"спектакл\"'),\n",
            " (3,\n",
            "  '0.020*\"эш\" + 0.017*\"су\" + 0.014*\"акча\" + 0.011*\"вакыт\" + 0.011*\"кеш\" + '\n",
            "  '0.010*\"сөт\" + 0.009*\"ал\" + 0.009*\"хәзер\" + 0.008*\"әйтт\" + 0.008*\"ярдә\"'),\n",
            " (4,\n",
            "  '0.052*\"ак\" + 0.044*\"барс\" + 0.022*\"хоккей\" + 0.020*\"матч\" + 0.017*\"казан\" + '\n",
            "  '0.013*\"ал\" + 0.013*\"период\" + 0.012*\"боз\" + 0.012*\"кертт\" + 0.011*\"исәб\"'),\n",
            " (5,\n",
            "  '0.027*\"җыр\" + 0.027*\"фестиваль\" + 0.026*\"концерт\" + 0.022*\"конкурс\" + '\n",
            "  '0.021*\"артист\" + 0.019*\"татар\" + 0.018*\"фестивал\" + 0.016*\"халык\" + '\n",
            "  '0.012*\"филь\" + 0.011*\"бию\"'),\n",
            " (6,\n",
            "  '0.035*\"татар\" + 0.018*\"тел\" + 0.018*\"китап\" + 0.013*\"язучы\" + 0.009*\"тукай\" '\n",
            "  '+ 0.009*\"әдәби\" + 0.008*\"автор\" + 0.008*\"шагыйрь\" + 0.007*\"кичә\" + '\n",
            "  '0.007*\"әсәр\"'),\n",
            " (7,\n",
            "  '0.023*\"янгын\" + 0.020*\"хәл\" + 0.019*\"йорт\" + 0.018*\"матбугат\" + '\n",
            "  '0.016*\"хезмәт\" + 0.014*\"гадәт\" + 0.013*\"инфор\" + 0.013*\"ат\" + '\n",
            "  '0.013*\"россия\" + 0.013*\"баш\"'),\n",
            " (8,\n",
            "  '0.054*\"мөселман\" + 0.038*\"нәзарәт\" + 0.035*\"диния\" + 0.034*\"хәзрәт\" + '\n",
            "  '0.028*\"мөфти\" + 0.026*\"исла\" + 0.022*\"дин\" + 0.015*\"камил\" + 0.014*\"россия\" '\n",
            "  '+ 0.013*\"татарс\"'),\n",
            " (9,\n",
            "  '0.045*\"команда\" + 0.043*\"спорт\" + 0.026*\"ярыш\" + 0.022*\"урын\" + '\n",
            "  '0.018*\"россия\" + 0.015*\"көрәш\" + 0.014*\"турнир\" + 0.013*\"футбол\" + '\n",
            "  '0.013*\"арасын\" + 0.012*\"дөнья\"'),\n",
            " (10,\n",
            "  '0.048*\"мәчет\" + 0.021*\"коръән\" + 0.017*\"из\" + 0.014*\"намаз\" + 0.013*\"авыру\" '\n",
            "  '+ 0.012*\"има\" + 0.011*\"имам\" + 0.011*\"битлек\" + 0.010*\"шура\" + '\n",
            "  '0.010*\"туфан\"'),\n",
            " (11,\n",
            "  '0.015*\"бала\" + 0.014*\"зур\" + 0.011*\"ид\" + 0.010*\"рәхмәт\" + 0.009*\"рөстә\" + '\n",
            "  '0.009*\"мәктәп\" + 0.009*\"авыл\" + 0.008*\"мәктәб\" + 0.008*\"кыз\" + '\n",
            "  '0.008*\"миңнеханов\"'),\n",
            " (12,\n",
            "  '0.022*\"юл\" + 0.018*\"машина\" + 0.018*\"булган\" + 0.016*\"кыз\" + 0.014*\"ир\" + '\n",
            "  '0.013*\"казан\" + 0.013*\"хатын\" + 0.012*\"һәлакәт\" + 0.011*\"тикшерү\" + '\n",
            "  '0.011*\"эш\"'),\n",
            " (13,\n",
            "  '0.015*\"сәнгать\" + 0.014*\"күргәзмә\" + 0.013*\"мәдәният\" + 0.012*\"музей\" + '\n",
            "  '0.010*\"татарстан\" + 0.010*\"алтын\" + 0.008*\"атказанган\" + 0.008*\"халык\" + '\n",
            "  '0.008*\"иҗат\" + 0.008*\"бөек\"'),\n",
            " (14,\n",
            "  '0.041*\"авыл\" + 0.028*\"хуҗалы\" + 0.018*\"азык\" + 0.015*\"район\" + '\n",
            "  '0.015*\"төлек\" + 0.015*\"министр\" + 0.014*\"эш\" + 0.013*\"тонна\" + '\n",
            "  '0.012*\"гектар\" + 0.011*\"хуҗалык\"')]\n"
          ],
          "name": "stdout"
        }
      ]
    },
    {
      "cell_type": "code",
      "metadata": {
        "id": "YcFlGt2HYvZG"
      },
      "source": [
        "tat_lda_model.save('lda/tat_lda_model') "
      ],
      "execution_count": null,
      "outputs": []
    },
    {
      "cell_type": "code",
      "metadata": {
        "id": "iyKZ5ZMlaq0O"
      },
      "source": [
        "predicted_topics_per_doc = [tat_lda_model.get_document_topics(text) for text in corpus_test]\r\n",
        "predicted_aspects_lda = [max(pair, key=lambda x:x[1])[0] for pair in  predicted_topics_per_doc]"
      ],
      "execution_count": null,
      "outputs": []
    },
    {
      "cell_type": "code",
      "metadata": {
        "colab": {
          "base_uri": "https://localhost:8080/"
        },
        "id": "FwRlhno6_jNT",
        "outputId": "2de0fe2c-eba6-47f7-ef98-f11b2eb16860"
      },
      "source": [
        "selected_topics"
      ],
      "execution_count": null,
      "outputs": [
        {
          "output_type": "execute_result",
          "data": {
            "text/plain": [
              "['culture', 'incident', 'sport', 'agriculture', 'religion']"
            ]
          },
          "metadata": {
            "tags": []
          },
          "execution_count": 38
        }
      ]
    },
    {
      "cell_type": "code",
      "metadata": {
        "id": "TuTLj5Kva8U0"
      },
      "source": [
        "cluster_map_lda = {\r\n",
        "    0: \"culture\",\r\n",
        "    1: \"culture\",\r\n",
        "    2: \"culture\",\r\n",
        "    3: \"agriculture\",\r\n",
        "    4: \"sport\",\r\n",
        "    5: \"culture\",\r\n",
        "    6: \"culture\",\r\n",
        "    7: \"incident\",\r\n",
        "    8: \"religion\",\r\n",
        "    9: \"sport\",\r\n",
        "    10: \"religion\",\r\n",
        "    11: \"culture\",\r\n",
        "    12: \"incident\",\r\n",
        "    13: \"culture\",\r\n",
        "    14: \"agriculture\",\r\n",
        "}"
      ],
      "execution_count": null,
      "outputs": []
    },
    {
      "cell_type": "code",
      "metadata": {
        "id": "1BdF84M0azol"
      },
      "source": [
        "predicted_labels_lda = [cluster_map_lda[i] for i in predicted_aspects_lda]\r\n",
        "compare_lda_to_test = [mapper[label] for label in predicted_labels_lda]"
      ],
      "execution_count": null,
      "outputs": []
    },
    {
      "cell_type": "code",
      "metadata": {
        "colab": {
          "base_uri": "https://localhost:8080/"
        },
        "id": "e7_vLBPCHj6S",
        "outputId": "8cf5eb4e-fa6f-4df0-bc82-e7d098793b43"
      },
      "source": [
        "mapper"
      ],
      "execution_count": null,
      "outputs": [
        {
          "output_type": "execute_result",
          "data": {
            "text/plain": [
              "{'agriculture': 3, 'culture': 0, 'incident': 1, 'religion': 4, 'sport': 2}"
            ]
          },
          "metadata": {
            "tags": []
          },
          "execution_count": 115
        }
      ]
    },
    {
      "cell_type": "markdown",
      "metadata": {
        "id": "IxoOJWuXLPVb"
      },
      "source": [
        "### Results"
      ]
    },
    {
      "cell_type": "code",
      "metadata": {
        "colab": {
          "base_uri": "https://localhost:8080/"
        },
        "id": "1HSq0ktma8xE",
        "outputId": "04e424bd-0b7d-4663-ca0f-e012b7de7e0f"
      },
      "source": [
        "print(classification_report(test['topic'].values, compare_lda_to_test,\r\n",
        "                            target_names=['culture', 'incident', 'sport',\r\n",
        "                                          'agriculture', 'religion'],\r\n",
        "                            digits=3,\r\n",
        "                            zero_division=0))"
      ],
      "execution_count": null,
      "outputs": [
        {
          "output_type": "stream",
          "text": [
            "              precision    recall  f1-score   support\n",
            "\n",
            "     culture      0.654     0.975     0.783      1497\n",
            "    incident      0.982     0.925     0.953      1314\n",
            "       sport      0.971     0.518     0.676       654\n",
            " agriculture      0.769     0.857     0.811       589\n",
            "    religion      0.957     0.238     0.381       559\n",
            "\n",
            "    accuracy                          0.792      4613\n",
            "   macro avg      0.867     0.703     0.721      4613\n",
            "weighted avg      0.844     0.792     0.771      4613\n",
            "\n"
          ],
          "name": "stdout"
        }
      ]
    },
    {
      "cell_type": "markdown",
      "metadata": {
        "id": "8Wdnn4bSGS2S"
      },
      "source": [
        "## ABAE"
      ]
    },
    {
      "cell_type": "markdown",
      "metadata": {
        "id": "FRSY1QoGZyfd"
      },
      "source": [
        "### Data vectorization classes"
      ]
    },
    {
      "cell_type": "code",
      "metadata": {
        "id": "AOeI9fAYY3zP"
      },
      "source": [
        "class Vocabulary(object):\r\n",
        "    \"\"\" Class to process text and extract vocabulary for mapping\r\n",
        "    \r\n",
        "        Args:\r\n",
        "            token_to_idx (dict): a pre-existing map of tokens to indices\r\n",
        "            mask_token (str): the MASK token to add into the Vocabulary; indicates\r\n",
        "                a position that will not be used in updating the model's parameters\r\n",
        "            add_unk (bool): a flag that indicates whether to add the UNK token\r\n",
        "            unk_token (str): the UNK token to add into the Vocabulary\r\n",
        "\r\n",
        "    \"\"\"\r\n",
        "    def __init__(self, token_to_idx=None, mask_token=\"<MASK>\", unk_token=\"<UNK>\", num_token='<NUM>'):\r\n",
        "        if token_to_idx is None:\r\n",
        "            token_to_idx = {}\r\n",
        "        self._token_to_idx = token_to_idx\r\n",
        "\r\n",
        "        self._idx_to_token = {idx: token \r\n",
        "                              for token, idx in self._token_to_idx.items()}\r\n",
        "\r\n",
        "        self._unk_token = unk_token\r\n",
        "        self._mask_token = mask_token\r\n",
        "        self._num_token = num_token\r\n",
        "        \r\n",
        "        self.unk_index = self.add_token(unk_token) \r\n",
        "        self.num_index = self.add_token(num_token)\r\n",
        "        self.mask_index = self.add_token(self._mask_token)\r\n",
        "        \r\n",
        "    def to_serializable(self):\r\n",
        "        \"\"\"Returns a dictionary that can be serialized\"\"\"\r\n",
        "        return {'token_to_idx': self._token_to_idx, \r\n",
        "                'add_unk': self._add_unk, \r\n",
        "                'unk_token': self._unk_token, \r\n",
        "                'mask_token': self._mask_token,\r\n",
        "                'num_token': self._num_token,\r\n",
        "               }\r\n",
        "\r\n",
        "    @classmethod\r\n",
        "    def from_serializable(cls, contents):\r\n",
        "        \"\"\"Instantiates the Vocabulary from a serialized dictionary\"\"\"\r\n",
        "        return cls(**contents)\r\n",
        "\r\n",
        "    def add_token(self, token):\r\n",
        "        \"\"\"Update mapping dicts based on the token\r\n",
        "\r\n",
        "        Args:\r\n",
        "            token (str): the item to add into the Vocabulary\r\n",
        "\r\n",
        "        Returns:\r\n",
        "            index (int): the integer corresponding to the token\r\n",
        "\r\n",
        "        \"\"\"\r\n",
        "        if token in self._token_to_idx:\r\n",
        "            index = self._token_to_idx[token]\r\n",
        "        else:\r\n",
        "            index = len(self._token_to_idx)\r\n",
        "            self._token_to_idx[token] = index\r\n",
        "            self._idx_to_token[index] = token\r\n",
        "\r\n",
        "        return index\r\n",
        "            \r\n",
        "    def add_many(self, tokens):\r\n",
        "        \"\"\"Add a list of tokens into the Vocabulary\r\n",
        "        \r\n",
        "        Args:\r\n",
        "            tokens (list): a list of string tokens\r\n",
        "\r\n",
        "        Returns:\r\n",
        "            indices (list): a list of indices corresponding to the tokens\r\n",
        "\r\n",
        "        \"\"\"\r\n",
        "        return [self.add_token(token) for token in tokens]\r\n",
        "\r\n",
        "    def lookup_token(self, token):\r\n",
        "        \"\"\"Retrieve the index associated with the token or the UNK index if token isn't present\r\n",
        "        \r\n",
        "        Args:\r\n",
        "            token (str): the token to look up \r\n",
        "\r\n",
        "        Returns:\r\n",
        "            index (int): the index corresponding to the token\r\n",
        "\r\n",
        "        Notes:\r\n",
        "            `unk_index` needs to be >=0 (having been added into the Vocabulary) for the UNK functionality \r\n",
        "\r\n",
        "        \"\"\"\r\n",
        "        if self.is_number(token):\r\n",
        "            return self.num_index\r\n",
        "            \r\n",
        "        return self._token_to_idx.get(token, self.unk_index)\r\n",
        "    \r\n",
        "    def is_number(self, token):\r\n",
        "        \"\"\"Returns true if token in number else false\"\"\"\r\n",
        "        num_regex = re.compile('^[+-]?[0-9]+\\.?[0-9]*$')\r\n",
        "\r\n",
        "        return bool(num_regex.match(token))\r\n",
        "\r\n",
        "    def lookup_index(self, index):\r\n",
        "        \"\"\"Token associated with the index\r\n",
        "        \r\n",
        "        Args: \r\n",
        "            index (int): the index to look up\r\n",
        "\r\n",
        "        Returns:\r\n",
        "            token (str): the token corresponding to the index\r\n",
        "\r\n",
        "        Raises:\r\n",
        "            KeyError: if the index is not in the Vocabulary\r\n",
        "\r\n",
        "        \"\"\"\r\n",
        "        if index not in self._idx_to_token:\r\n",
        "            raise KeyError(\"the index (%d) is not in the Vocabulary\" % index)\r\n",
        "        return self._idx_to_token[index]\r\n",
        "\r\n",
        "    def __str__(self):\r\n",
        "        return \"<Vocabulary(size=%d)>\" % len(self)\r\n",
        "\r\n",
        "    def __len__(self):\r\n",
        "        return len(self._token_to_idx)"
      ],
      "execution_count": null,
      "outputs": []
    },
    {
      "cell_type": "code",
      "metadata": {
        "id": "AgZy9O3QZcy1"
      },
      "source": [
        "class Vectorizer(object):\r\n",
        "    \"\"\" The Vectorizer which coordinates the Vocabularies and puts them to use\r\n",
        "    \r\n",
        "        Args:\r\n",
        "            vocab (Vocabulary): maps words to integers\r\n",
        "\r\n",
        "    \"\"\"    \r\n",
        "    def __init__(self, vocab):\r\n",
        "        self.vocab = vocab\r\n",
        "\r\n",
        "    def vectorize(self, context, vector_length=-1):\r\n",
        "        \"\"\"Vectorizer\r\n",
        "\r\n",
        "        Args:\r\n",
        "            context (str): the string of words separated by a space\r\n",
        "            vector_length (int): an argument for forcing the length of index vector\r\n",
        "\r\n",
        "        \"\"\"\r\n",
        "\r\n",
        "        indices = [self.vocab.lookup_token(token) for token in context.split(' ')]\r\n",
        "        if vector_length < 0:\r\n",
        "            vector_length = len(indices)\r\n",
        "\r\n",
        "        out_vector = np.zeros(vector_length, dtype=np.int64)\r\n",
        "        out_vector[-len(indices):] = indices\r\n",
        "        out_vector[:-len(indices)] = self.vocab.mask_index\r\n",
        "\r\n",
        "        return out_vector\r\n",
        "    \r\n",
        "    @classmethod\r\n",
        "    def from_dataframe(cls, df):\r\n",
        "        \"\"\"Instantiate the vectorizer from the dataset dataframe\r\n",
        "        \r\n",
        "        Args:\r\n",
        "            df(pandas.DataFrame): the target dataset\r\n",
        "\r\n",
        "        Returns:\r\n",
        "            an instance of the Vectorizer\r\n",
        "\r\n",
        "        \"\"\"\r\n",
        "        vocab = Vocabulary()\r\n",
        "        for index, row in df.iterrows():\r\n",
        "            for token in row.context.split(' '):\r\n",
        "                vocab.add_token(token)\r\n",
        "            vocab.add_token(row.target)\r\n",
        "            \r\n",
        "        return cls(vocab)\r\n",
        "\r\n",
        "    @classmethod\r\n",
        "    def from_serializable(cls, contents):\r\n",
        "        vocab = Vocabulary.from_serializable(contents['vocab'])\r\n",
        "        return cls(vocab=vocab)\r\n",
        "\r\n",
        "    def to_serializable(self):\r\n",
        "        return {'vocab': self.vocab.to_serializable()}"
      ],
      "execution_count": null,
      "outputs": []
    },
    {
      "cell_type": "code",
      "metadata": {
        "id": "cYt7o63rZh3p"
      },
      "source": [
        "class Dataset(Dataset):\r\n",
        "    \"\"\" Dataset reader\r\n",
        "\r\n",
        "        Args:\r\n",
        "            df(pandas.DataFrame): the dataset\r\n",
        "            vectorizer (Vectorizer): vectorizer instatiated from dataset\r\n",
        "\r\n",
        "    \"\"\"\r\n",
        "    def __init__(self, train_df, test_df, vectorizer):\r\n",
        "\r\n",
        "        self.train_df = train_df\r\n",
        "        self.train_size = len(train_df)\r\n",
        "        \r\n",
        "        self.test_df = test_df\r\n",
        "        self.test_size = len(test_df)\r\n",
        "        \r\n",
        "        self._vectorizer = vectorizer\r\n",
        "        \r\n",
        "        measure_len = lambda context: len(context.split(\" \"))\r\n",
        "        self._max_seq_length = max(map(measure_len, train_df.text))\r\n",
        "        \r\n",
        "        self._lookup_dict = {\r\n",
        "            'train': (self.train_df, self.train_size),\r\n",
        "            'test': (self.test_df, self.test_size)\r\n",
        "        }\r\n",
        "        \r\n",
        "        self.set_split('train')\r\n",
        "        \r\n",
        "    @property\r\n",
        "    def max_seq_length(self):\r\n",
        "        \"\"\"Max dataset sequence len\"\"\"\r\n",
        "        return self._max_seq_length\r\n",
        "\r\n",
        "    def set_split(self, split=\"train\"):\r\n",
        "        \"\"\"Selects the splits in the dataset using a column in the dataframe \"\"\"\r\n",
        "        self._target_split = split\r\n",
        "        self._target_df, self._target_size = self._lookup_dict[split]\r\n",
        "    \r\n",
        "    def get_vectorizer(self):\r\n",
        "        \"\"\"Returns the vectorizer\"\"\"\r\n",
        "        return self._vectorizer\r\n",
        "\r\n",
        "    def __len__(self):\r\n",
        "        return self._target_size\r\n",
        "\r\n",
        "    def __getitem__(self, index):\r\n",
        "        \"\"\"Primary entry point method for PyTorch datasets\r\n",
        "        \r\n",
        "        Args:\r\n",
        "            index (int): the index to the data point \r\n",
        "\r\n",
        "        Returns:\r\n",
        "            a dictionary holding the data point's features (x_data) and label (y_target)\r\n",
        "\r\n",
        "        \"\"\"\r\n",
        "        row = self._target_df.iloc[index]\r\n",
        "        target = 0.\r\n",
        "\r\n",
        "        context_vector = self._vectorizer.vectorize(row.text, self._max_seq_length)\r\n",
        "\r\n",
        "        return {\r\n",
        "            'x_data': context_vector,\r\n",
        "            'y_target': 0. if self._target_split == 'train' else row.topic,\r\n",
        "        }\r\n",
        "\r\n",
        "    def get_num_batches(self, batch_size):\r\n",
        "        \"\"\"Given a batch size, return the number of batches in the dataset\r\n",
        "        \r\n",
        "        Args:\r\n",
        "            batch_size (int)\r\n",
        "\r\n",
        "        Returns:\r\n",
        "            number of batches in the dataset\r\n",
        "\r\n",
        "        \"\"\"\r\n",
        "        return len(self) // batch_size"
      ],
      "execution_count": null,
      "outputs": []
    },
    {
      "cell_type": "markdown",
      "metadata": {
        "id": "LrIOPOYPaLce"
      },
      "source": [
        "### Utils"
      ]
    },
    {
      "cell_type": "code",
      "metadata": {
        "id": "_mU4DTFSZrIs"
      },
      "source": [
        "def generate_batches(dataset, batch_size, shuffle=True,\r\n",
        "                     drop_last=True, device=\"cpu\"): \r\n",
        "    \"\"\"A generator function which wraps the PyTorch DataLoader. It will ensure \r\n",
        "        each tensor is on the write device location\r\n",
        "        \r\n",
        "    \"\"\"\r\n",
        "    dataloader = DataLoader(dataset=dataset, batch_size=batch_size,\r\n",
        "                            shuffle=shuffle, drop_last=drop_last)\r\n",
        "\r\n",
        "    for data_dict in dataloader:\r\n",
        "        out_data_dict = {}\r\n",
        "        for name, tensor in data_dict.items():\r\n",
        "            out_data_dict[name] = data_dict[name].to(device) \\\r\n",
        "            if isinstance(data_dict[name], torch.Tensor) else data_dict[name]\r\n",
        "        yield out_data_dict"
      ],
      "execution_count": null,
      "outputs": []
    },
    {
      "cell_type": "code",
      "metadata": {
        "id": "9QY5F7KHaOHT"
      },
      "source": [
        "def get_centroids(w2v_model, aspects_count):\r\n",
        "    \"\"\"Clustering all word vectors with K-means and returning L2-normalizes\r\n",
        "        cluster centroids; used for aspects matrix initialization\r\n",
        "    \"\"\"\r\n",
        "    km = MiniBatchKMeans(n_clusters=aspects_count,\r\n",
        "                         verbose=0,\r\n",
        "                         n_init=100,\r\n",
        "                         random_state=0)\r\n",
        "    m = []\r\n",
        "\r\n",
        "    for k in w2v_model.wv.vocab:\r\n",
        "        m.append(w2v_model.wv[k])\r\n",
        "\r\n",
        "    m = np.matrix(m)\r\n",
        "\r\n",
        "    km.fit(m)\r\n",
        "    clusters = km.cluster_centers_\r\n",
        "\r\n",
        "    # L2 normalization\r\n",
        "    norm_aspect_matrix = clusters / np.linalg.norm(clusters, axis=-1, keepdims=True)\r\n",
        "\r\n",
        "    return norm_aspect_matrix\r\n"
      ],
      "execution_count": null,
      "outputs": []
    },
    {
      "cell_type": "markdown",
      "metadata": {
        "id": "2vN4ZPu0anQr"
      },
      "source": [
        "### Model"
      ]
    },
    {
      "cell_type": "code",
      "metadata": {
        "id": "1QsLF33kaWxo"
      },
      "source": [
        "class SelfAttention(torch.nn.Module):\r\n",
        "    \"\"\"Self attention\r\n",
        "    \r\n",
        "    Args:\r\n",
        "        wv_dim: word vector sizeluence\r\n",
        "        maxlen: sentence max length taken into account\r\n",
        "    \r\n",
        "    \"\"\"\r\n",
        "    def __init__(self, wv_dim, maxlen):\r\n",
        "        super(SelfAttention, self).__init__()\r\n",
        "        self.wv_dim = wv_dim\r\n",
        "\r\n",
        "        # max sentence length -- batch 2nd dim size\r\n",
        "        self.maxlen = maxlen\r\n",
        "        self.M = Parameter(torch.empty(size=(wv_dim, wv_dim)))\r\n",
        "        init.kaiming_uniform_(self.M.data)\r\n",
        "\r\n",
        "        self.tanh = nn.Tanh()\r\n",
        "        self.attention_softmax = torch.nn.Softmax(dim=1)\r\n",
        "\r\n",
        "    def forward(self, input_embeddings):\r\n",
        "        # (b, wv, 1)\r\n",
        "        mean_embedding = torch.mean(input_embeddings, (1,)).unsqueeze(2)\r\n",
        "\r\n",
        "        # (wv, wv) x (b, wv, 1) -> (b, wv, 1)\r\n",
        "        product_1 = torch.matmul(self.M, mean_embedding)\r\n",
        "\r\n",
        "        # (b, maxlen, wv) x (b, wv, 1) -> (b, maxlen, 1)\r\n",
        "        product_2 = torch.matmul(input_embeddings, product_1).squeeze(2)\r\n",
        "\r\n",
        "        results = self.attention_softmax(self.tanh(product_2))\r\n",
        "\r\n",
        "        return results\r\n",
        "\r\n",
        "    def extra_repr(self):\r\n",
        "        return 'wv_dim={}, maxlen={}'.format(self.wv_dim, self.maxlen)"
      ],
      "execution_count": null,
      "outputs": []
    },
    {
      "cell_type": "code",
      "metadata": {
        "id": "CmxUW90naumq"
      },
      "source": [
        "class ABAE(torch.nn.Module):\r\n",
        "    \"\"\" The model described in the paper ``An Unsupervised Neural Attention Model for Aspect Extraction''\r\n",
        "        by He, Ruidan and  Lee, Wee Sun  and  Ng, Hwee Tou  and  Dahlmeier, Daniel, ACL2017\r\n",
        "        https://aclweb.org/anthology/papers/P/P17/P17-1036/. \r\n",
        "        \r\n",
        "        Based on implementation by Anton Alekseev: ''https://github.com/alexeyev/abae-pytorch''. \r\n",
        "        Changes: \r\n",
        "        - removed ortho regularization;\r\n",
        "        - changed activation function;\r\n",
        "        - embedding added in model;\r\n",
        "        - added tanh function to attention output;\r\n",
        "        - added encoder output flag.\r\n",
        "        \r\n",
        "        Args:\r\n",
        "            wv_dim: word vector size\r\n",
        "            asp_count: number of aspects\r\n",
        "            ortho_reg: coefficient for tuning the ortho-regularizer's influence\r\n",
        "            maxlen: sentence max length taken into account\r\n",
        "            init_aspects_matrix: None or init. matrix for aspects\r\n",
        "            pretrained_embedding: w2v vectors\r\n",
        "            encoder_only: bool - return output after encoding\r\n",
        "            padding_index: Mask index\r\n",
        "\r\n",
        "    \"\"\"\r\n",
        "    def __init__(\r\n",
        "        self, \r\n",
        "        wv_dim, \r\n",
        "        asp_count,\r\n",
        "        maxlen, \r\n",
        "        init_aspects_matrix,\r\n",
        "        pretrained_embedding,\r\n",
        "        padding_index,\r\n",
        "        encoder_only=False,\r\n",
        "    ):\r\n",
        "        super(ABAE, self).__init__()\r\n",
        "        self.wv_dim = wv_dim\r\n",
        "        self.asp_count = asp_count\r\n",
        "        self.maxlen = maxlen\r\n",
        "\r\n",
        "        self.embedding = torch.nn.Embedding.from_pretrained(\r\n",
        "            torch.FloatTensor(pretrained_embedding), \r\n",
        "            padding_idx=padding_index,\r\n",
        "        )\r\n",
        "        \r\n",
        "        self.attention = SelfAttention(wv_dim, maxlen)\r\n",
        "        self.linear_transform = torch.nn.Linear(self.wv_dim, self.asp_count)\r\n",
        "        self.softmax_aspects = torch.nn.Softmax(dim=1)\r\n",
        "        self.aspects_embeddings = Parameter(torch.empty(size=(wv_dim, asp_count)))\r\n",
        "\r\n",
        "        if init_aspects_matrix is None:\r\n",
        "            torch.nn.init.xavier_uniform(self.aspects_embeddings)\r\n",
        "        else:\r\n",
        "            self.aspects_embeddings.data = torch.from_numpy(init_aspects_matrix.T)\r\n",
        "            \r\n",
        "        self.encoder_only = encoder_only\r\n",
        "\r\n",
        "    def get_aspects_importances(self, text_embeddings):\r\n",
        "        \"\"\"Get aspect importances\r\n",
        "        \r\n",
        "        Args:\r\n",
        "            text_embedding: embeddings of a sentence as input\r\n",
        "        \r\n",
        "        Returns: \r\n",
        "            attention weights, aspects_importances, weighted_text_emb\r\n",
        "\r\n",
        "        \"\"\"\r\n",
        "        # compute attention scores, looking at text embeddings average\r\n",
        "        attention_weights = self.attention(text_embeddings)\r\n",
        "\r\n",
        "        # multiplying text embeddings by attention scores -- and summing\r\n",
        "        # (matmul: we sum every word embedding's coordinate with attention weights)\r\n",
        "        weighted_text_emb = torch.matmul(attention_weights.unsqueeze(1),  # (batch, 1, sentence)\r\n",
        "                                         text_embeddings  # (batch, sentence, wv_dim)\r\n",
        "                                         ).squeeze()\r\n",
        "\r\n",
        "        # encoding with a simple feed-forward layer (wv_dim) -> (aspects_count)\r\n",
        "        raw_importances = self.linear_transform(weighted_text_emb)\r\n",
        "\r\n",
        "        # computing 'aspects distribution in a sentence'\r\n",
        "        aspects_importances = self.softmax_aspects(raw_importances)\r\n",
        "\r\n",
        "        return attention_weights, aspects_importances, weighted_text_emb\r\n",
        "\r\n",
        "    def forward(self, text_embeddings, negative_samples_texts):\r\n",
        "        \r\n",
        "        text_embeddings = self.embedding(text_embeddings)\r\n",
        "\r\n",
        "        # encoding: words embeddings -> sentence embedding, aspects importances\r\n",
        "        _, aspects_importances, weighted_text_emb = self.get_aspects_importances(text_embeddings)\r\n",
        "        \r\n",
        "        if self.encoder_only:\r\n",
        "            return aspects_importances\r\n",
        "        else:\r\n",
        "            negative_samples_texts = self.embedding(negative_samples_texts)\r\n",
        "            \r\n",
        "            # negative samples are averaged\r\n",
        "            averaged_negative_samples = torch.mean(negative_samples_texts, dim=1)\r\n",
        "            averaged_negative_samples = torch.mean(averaged_negative_samples, dim=1)\r\n",
        "            \r\n",
        "            # decoding: aspects embeddings matrix, aspects_importances -> recovered sentence embedding\r\n",
        "            recovered_emb = torch.matmul(self.aspects_embeddings, aspects_importances.unsqueeze(2)).squeeze()\r\n",
        "            \r\n",
        "            return weighted_text_emb, recovered_emb, averaged_negative_samples\r\n",
        "\r\n",
        "    def get_aspect_words(self, w2v_model, topn=10):\r\n",
        "        \"\"\"Getting aspects words\"\"\"\r\n",
        "        words = []\r\n",
        "        aspects = self.aspects_embeddings.cpu().detach().numpy()\r\n",
        "        words_scores = w2v_model.wv.vectors.dot(aspects)\r\n",
        "\r\n",
        "        for row in range(aspects.shape[1]):\r\n",
        "            argmax_scalar_products = np.argsort(- words_scores[:, row])[:topn]\r\n",
        "            words.append([w2v_model.wv.index2word[i] for i in argmax_scalar_products])\r\n",
        "\r\n",
        "        return words"
      ],
      "execution_count": null,
      "outputs": []
    },
    {
      "cell_type": "markdown",
      "metadata": {
        "id": "zJTtZWV6bnuN"
      },
      "source": [
        "### Training utils"
      ]
    },
    {
      "cell_type": "code",
      "metadata": {
        "id": "pEfzxyLza3AI"
      },
      "source": [
        "def set_seed_everywhere(seed, cuda):\r\n",
        "    np.random.seed(seed)\r\n",
        "    torch.manual_seed(seed)\r\n",
        "    if cuda:\r\n",
        "        torch.cuda.manual_seed_all(seed)\r\n",
        "\r\n",
        "        \r\n",
        "def handle_dirs(dirpath):\r\n",
        "    if not os.path.exists(dirpath):\r\n",
        "        os.makedirs(dirpath)\r\n",
        "\r\n",
        "    \r\n",
        "def make_train_state(args):\r\n",
        "    return {\r\n",
        "        'stop_early': False,\r\n",
        "        'early_stopping_step': 0,\r\n",
        "        'early_stopping_best_val': 1e8,\r\n",
        "        'learning_rate': args.learning_rate,\r\n",
        "        'epoch_index': 0,\r\n",
        "        'train_loss': [],\r\n",
        "        'model_filename': args.model_state_file\r\n",
        "    }\r\n",
        "\r\n",
        "\r\n",
        "def update_train_state(args, model, train_state):\r\n",
        "    \"\"\"Handle the training state updates\r\n",
        "\r\n",
        "    Components:\r\n",
        "     - Early Stopping: Prevent overfitting.\r\n",
        "     - Model Checkpoint: Model is saved if the model is better\r\n",
        "\r\n",
        "    Args:\r\n",
        "        args: main arguments\r\n",
        "        model: model to train\r\n",
        "        train_state: a dictionary representing the training state values\r\n",
        "    \r\n",
        "    Returns:\r\n",
        "        new train_state\r\n",
        "\r\n",
        "    \"\"\"\r\n",
        "    # Save one model at least\r\n",
        "    if train_state['epoch_index'] == 0:\r\n",
        "        torch.save(model.state_dict(), train_state['model_filename'])\r\n",
        "        train_state['stop_early'] = False\r\n",
        "\r\n",
        "    # Save model if performance improved\r\n",
        "    elif train_state['epoch_index'] >= 1:\r\n",
        "        loss_tm1, loss_t = train_state['train_loss'][-2:]\r\n",
        "\r\n",
        "        # If loss worsened\r\n",
        "        if loss_t >= train_state['early_stopping_best_val']:\r\n",
        "            # Update step\r\n",
        "            train_state['early_stopping_step'] += 1\r\n",
        "        # Loss decreased\r\n",
        "        else:\r\n",
        "            # Save the best model\r\n",
        "            if loss_t < train_state['early_stopping_best_val']:\r\n",
        "                torch.save(model.state_dict(), train_state['model_filename'])\r\n",
        "                train_state['early_stopping_best_val'] = loss_t\r\n",
        "\r\n",
        "            # Reset early stopping step\r\n",
        "            train_state['early_stopping_step'] = 0\r\n",
        "\r\n",
        "        # Stop early ?\r\n",
        "        train_state['stop_early'] = \\\r\n",
        "            train_state['early_stopping_step'] >= args.early_stopping_criteria\r\n",
        "\r\n",
        "    return train_state"
      ],
      "execution_count": null,
      "outputs": []
    },
    {
      "cell_type": "markdown",
      "metadata": {
        "id": "o_jcXiBxcpAx"
      },
      "source": [
        "### Settings"
      ]
    },
    {
      "cell_type": "code",
      "metadata": {
        "colab": {
          "base_uri": "https://localhost:8080/"
        },
        "id": "4xQFn3e1cpcF",
        "outputId": "646a6053-f6e2-44f0-ba03-1c8336c0ef37"
      },
      "source": [
        "args = Namespace(\r\n",
        "    emb_dim=200,\r\n",
        "    batch_size=50,\r\n",
        "    vocab_size=20000,\r\n",
        "    aspect_size=15,\r\n",
        "    epochs=16,\r\n",
        "    neg_size=15,\r\n",
        "    maxlen=-1,\r\n",
        "\r\n",
        "    cuda=True,\r\n",
        "    reload_from_files=False,\r\n",
        "    learning_rate=1e-3,\r\n",
        "    early_stopping_criteria=5,  \r\n",
        "    catch_keyboard_interrupt=True,\r\n",
        "    seed=0,\r\n",
        "    \r\n",
        "    save_dir=\"model\",\r\n",
        "    model_state_file=\"model.pth\",\r\n",
        ")\r\n",
        "\r\n",
        "args.device = torch.device(\"cuda\" if args.cuda and torch.cuda.is_available() else \"cpu\")\r\n",
        "print(\"Using device: {}\".format(args.device))\r\n",
        "set_seed_everywhere(args.seed, args.cuda)\r\n",
        "handle_dirs(args.save_dir)"
      ],
      "execution_count": null,
      "outputs": [
        {
          "output_type": "stream",
          "text": [
            "Using device: cuda\n"
          ],
          "name": "stdout"
        }
      ]
    },
    {
      "cell_type": "markdown",
      "metadata": {
        "id": "GR48mpbvKQoM"
      },
      "source": [
        "### Word2vec"
      ]
    },
    {
      "cell_type": "code",
      "metadata": {
        "id": "38fAJ69ZLBb5"
      },
      "source": [
        "w2v_model = Word2Vec(sentences=train['text'].values, size=200,\r\n",
        "                     seed=0,\r\n",
        "                     batch_words=10)"
      ],
      "execution_count": null,
      "outputs": []
    },
    {
      "cell_type": "code",
      "metadata": {
        "colab": {
          "base_uri": "https://localhost:8080/"
        },
        "id": "V2wSqXukmMCh",
        "outputId": "9fb96607-5923-4e9e-e7f7-b1313d0f950d"
      },
      "source": [
        "w2v_model.train(train['text'].values,\r\n",
        "                total_examples=w2v_model.corpus_count,\r\n",
        "                epochs=args.epochs)"
      ],
      "execution_count": null,
      "outputs": [
        {
          "output_type": "execute_result",
          "data": {
            "text/plain": [
              "(29269979, 31409584)"
            ]
          },
          "metadata": {
            "tags": []
          },
          "execution_count": 88
        }
      ]
    },
    {
      "cell_type": "code",
      "metadata": {
        "id": "7BhrVFfbMaCv"
      },
      "source": [
        "w2v_model.save('model/w2v_model') "
      ],
      "execution_count": null,
      "outputs": []
    },
    {
      "cell_type": "code",
      "metadata": {
        "id": "jmhJ2UkFM-LD"
      },
      "source": [
        "w2v = Word2Vec.load('model/w2v_model')\r\n",
        "token2index_lim = {token: index for index, token in enumerate(w2v.wv.index2word) if index < args.vocab_size}\r\n",
        "token2index_all = {token: index for index, token in enumerate(w2v.wv.index2word)}"
      ],
      "execution_count": null,
      "outputs": []
    },
    {
      "cell_type": "markdown",
      "metadata": {
        "id": "s9LVLtbcf6qY"
      },
      "source": [
        "### Training"
      ]
    },
    {
      "cell_type": "code",
      "metadata": {
        "colab": {
          "base_uri": "https://localhost:8080/",
          "height": 380
        },
        "id": "fZteMgN9cMF6",
        "outputId": "76dd7606-df67-4e08-918a-c29e88cbe155"
      },
      "source": [
        "train.loc[:, 'text'] = train['text'].apply(lambda x: \" \".join(x))\r\n",
        "train.drop(columns=['topic'], inplace=True)\r\n",
        "test.loc[:, 'text'] = test['text'].apply(lambda x: \" \".join(x))\r\n",
        "train.head()"
      ],
      "execution_count": null,
      "outputs": [
        {
          "output_type": "stream",
          "text": [
            "/usr/local/lib/python3.6/dist-packages/pandas/core/indexing.py:1743: SettingWithCopyWarning: \n",
            "A value is trying to be set on a copy of a slice from a DataFrame.\n",
            "Try using .loc[row_indexer,col_indexer] = value instead\n",
            "\n",
            "See the caveats in the documentation: https://pandas.pydata.org/pandas-docs/stable/user_guide/indexing.html#returning-a-view-versus-a-copy\n",
            "  isetter(ilocs[0], value)\n",
            "/usr/local/lib/python3.6/dist-packages/pandas/core/frame.py:4174: SettingWithCopyWarning: \n",
            "A value is trying to be set on a copy of a slice from a DataFrame\n",
            "\n",
            "See the caveats in the documentation: https://pandas.pydata.org/pandas-docs/stable/user_guide/indexing.html#returning-a-view-versus-a-copy\n",
            "  errors=errors,\n"
          ],
          "name": "stderr"
        },
        {
          "output_type": "execute_result",
          "data": {
            "text/html": [
              "<div>\n",
              "<style scoped>\n",
              "    .dataframe tbody tr th:only-of-type {\n",
              "        vertical-align: middle;\n",
              "    }\n",
              "\n",
              "    .dataframe tbody tr th {\n",
              "        vertical-align: top;\n",
              "    }\n",
              "\n",
              "    .dataframe thead th {\n",
              "        text-align: right;\n",
              "    }\n",
              "</style>\n",
              "<table border=\"1\" class=\"dataframe\">\n",
              "  <thead>\n",
              "    <tr style=\"text-align: right;\">\n",
              "      <th></th>\n",
              "      <th>text</th>\n",
              "    </tr>\n",
              "  </thead>\n",
              "  <tbody>\n",
              "    <tr>\n",
              "      <th>13188</th>\n",
              "      <td>бүг яш түбән кама рәссам архитектор атказанган...</td>\n",
              "    </tr>\n",
              "    <tr>\n",
              "      <th>19084</th>\n",
              "      <td>уфа май фәйзи гаскәров исемендә дәүләт академи...</td>\n",
              "    </tr>\n",
              "    <tr>\n",
              "      <th>14614</th>\n",
              "      <td>чалл суд колбаса урлаган ир ат колония җибәрд ...</td>\n",
              "    </tr>\n",
              "    <tr>\n",
              "      <th>9258</th>\n",
              "      <td>спас пенсионер вокаль коллектив арасын уздырыл...</td>\n",
              "    </tr>\n",
              "    <tr>\n",
              "      <th>9342</th>\n",
              "      <td>татарс спортчы зөлфәт гәрәев авыр атлети юниор...</td>\n",
              "    </tr>\n",
              "  </tbody>\n",
              "</table>\n",
              "</div>"
            ],
            "text/plain": [
              "                                                    text\n",
              "13188  бүг яш түбән кама рәссам архитектор атказанган...\n",
              "19084  уфа май фәйзи гаскәров исемендә дәүләт академи...\n",
              "14614  чалл суд колбаса урлаган ир ат колония җибәрд ...\n",
              "9258   спас пенсионер вокаль коллектив арасын уздырыл...\n",
              "9342   татарс спортчы зөлфәт гәрәев авыр атлети юниор..."
            ]
          },
          "metadata": {
            "tags": []
          },
          "execution_count": 91
        }
      ]
    },
    {
      "cell_type": "code",
      "metadata": {
        "id": "l_WwvwTve4r0"
      },
      "source": [
        "vocab = Vocabulary(token2index_lim)\r\n",
        "vectorizer = Vectorizer(vocab)\r\n",
        "dataset = Dataset(train, test, vectorizer)"
      ],
      "execution_count": null,
      "outputs": []
    },
    {
      "cell_type": "code",
      "metadata": {
        "id": "VWHRePrGfAlT"
      },
      "source": [
        "model = ABAE(\r\n",
        "    wv_dim=args.emb_dim,\r\n",
        "    asp_count=args.aspect_size,\r\n",
        "    maxlen=dataset.max_seq_length, \r\n",
        "    init_aspects_matrix=get_centroids(w2v, args.aspect_size),\r\n",
        "    pretrained_embedding=w2v.wv.vectors,\r\n",
        "    padding_index=vocab.mask_index,\r\n",
        ")\r\n",
        "\r\n",
        "model = model.to(args.device)\r\n",
        "loss_func = nn.TripletMarginLoss(margin=1, swap=False, reduction='mean')\r\n",
        "optimizer = optim.Adam(model.parameters(), lr=args.learning_rate)\r\n",
        "scheduler = optim.lr_scheduler.ReduceLROnPlateau(\r\n",
        "    optimizer=optimizer,\r\n",
        "    mode='min', \r\n",
        "    factor=0.5,\r\n",
        "    patience=1\r\n",
        ")\r\n",
        "\r\n",
        "train_state = make_train_state(args)"
      ],
      "execution_count": null,
      "outputs": []
    },
    {
      "cell_type": "code",
      "metadata": {
        "colab": {
          "background_save": true,
          "base_uri": "https://localhost:8080/",
          "height": 81,
          "referenced_widgets": [
            "ba6258f1882f4e15bb6f487fcd8b2655",
            "afc28e6114d04da9806f316716f54117",
            "1c1fc15cfd81411ab2965f08a1826973",
            "5f0822deed274706bf8e80236700a3c6",
            "c6c7126a67c54b4a991ea61f103b8e09",
            "8a63aa44e716479dbbe350d6b06d2b6b",
            "5af19698437e4387a63a8ba0cf831bf2",
            "3f372b39f7bc446db45d83f3c0b7f30d",
            "60fd133f8a59442387317f1c7066b478",
            "7f99bf487e7c4982ac57504f2c8c2bef",
            "3aabcc47f0e940d2b6894bf65cb2b12d",
            "3c991d2e85974204a5f5ed8a9073cd13",
            "45d05b45d53142cbb883a26a2675cf2e",
            "48eca5eef41744a3874f9d3eb143e4df",
            "fe28eb01473e4a2cb0b580f568b7edea",
            "197e1d39840a4bf68602845d140d9b00"
          ]
        },
        "id": "8B93SOXef_iO",
        "outputId": "2822d1c4-f322-4639-8737-dd59c7ec05c2"
      },
      "source": [
        "epoch_bar = tqdm(\r\n",
        "    desc='training routine', \r\n",
        "    total=args.epochs,\r\n",
        "    position=1,\r\n",
        ")\r\n",
        "\r\n",
        "dataset.set_split('train')\r\n",
        "train_bar = tqdm(\r\n",
        "    desc='train',\r\n",
        "    total=dataset.get_num_batches(args.batch_size), \r\n",
        "    position=1, \r\n",
        ")\r\n",
        "\r\n",
        "for epoch_index in range(args.epochs):\r\n",
        "    \r\n",
        "    train_state['epoch_index'] = epoch_index\r\n",
        "    \r\n",
        "    running_loss = 0.0\r\n",
        "    model.train()\r\n",
        "    \r\n",
        "    batch_generator = generate_batches(\r\n",
        "        dataset, \r\n",
        "        batch_size=args.batch_size, \r\n",
        "        device=args.device\r\n",
        "    )\r\n",
        "    \r\n",
        "    neg_batch_generator = generate_batches(\r\n",
        "        dataset, \r\n",
        "        batch_size=args.batch_size, \r\n",
        "        shuffle=False,\r\n",
        "        device=args.device,\r\n",
        "    )\r\n",
        "\r\n",
        "    for batch_index, batch_dict in enumerate(batch_generator):\r\n",
        "\r\n",
        "        optimizer.zero_grad()\r\n",
        "        \r\n",
        "        x = batch_dict['x_data']\r\n",
        "        y = batch_dict['y_target'].float()\r\n",
        "        x_neg = next(neg_batch_generator)['x_data']\r\n",
        "\r\n",
        "        negative_samples = torch.stack(\r\n",
        "            tuple([x_neg[torch.randperm(x_neg.shape[0])[:args.neg_size]] \r\n",
        "                   for _ in range(args.batch_size)])\r\n",
        "        ).to(args.device)\r\n",
        "\r\n",
        "        anchor, positive, negative = model(x, negative_samples)\r\n",
        "        loss = loss_func(anchor, positive, negative)\r\n",
        "        loss_t = loss.item()\r\n",
        "\r\n",
        "        running_loss += (loss_t - running_loss) / (batch_index + 1)\r\n",
        "        loss.backward()\r\n",
        "\r\n",
        "        optimizer.step()\r\n",
        "        \r\n",
        "        train_bar.set_postfix(loss=running_loss, epoch=epoch_index)\r\n",
        "        train_bar.update()\r\n",
        "\r\n",
        "    train_state['train_loss'].append(running_loss)\r\n",
        "    train_state = update_train_state(args=args, model=model, train_state=train_state)\r\n",
        "    scheduler.step(train_state['train_loss'][-1])\r\n",
        "\r\n",
        "    if train_state['stop_early']:\r\n",
        "        break\r\n",
        "\r\n",
        "    train_bar.n = 0\r\n",
        "\r\n",
        "    epoch_bar.set_postfix(best_val=train_state['early_stopping_best_val'])\r\n",
        "    epoch_bar.update()"
      ],
      "execution_count": null,
      "outputs": [
        {
          "output_type": "display_data",
          "data": {
            "application/vnd.jupyter.widget-view+json": {
              "model_id": "ba6258f1882f4e15bb6f487fcd8b2655",
              "version_major": 2,
              "version_minor": 0
            },
            "text/plain": [
              "HBox(children=(FloatProgress(value=0.0, description='training routine', max=16.0, style=ProgressStyle(descript…"
            ]
          },
          "metadata": {
            "tags": []
          }
        },
        {
          "output_type": "display_data",
          "data": {
            "application/vnd.jupyter.widget-view+json": {
              "model_id": "60fd133f8a59442387317f1c7066b478",
              "version_major": 2,
              "version_minor": 0
            },
            "text/plain": [
              "HBox(children=(FloatProgress(value=0.0, description='train', max=368.0, style=ProgressStyle(description_width=…"
            ]
          },
          "metadata": {
            "tags": []
          }
        }
      ]
    },
    {
      "cell_type": "markdown",
      "metadata": {
        "id": "lNo3ziuofLTi"
      },
      "source": [
        "### Evaluation"
      ]
    },
    {
      "cell_type": "code",
      "metadata": {
        "colab": {
          "base_uri": "https://localhost:8080/",
          "height": 428
        },
        "id": "221sm58pghYZ",
        "outputId": "9bb50514-2601-4fc9-849e-62e239b5d321"
      },
      "source": [
        "plt.figure(figsize=(10, 7))\r\n",
        "sns.lineplot(\r\n",
        "    x=[epoch + 1 for epoch in range(len(train_state['train_loss']))],\r\n",
        "    y=train_state['train_loss'],\r\n",
        "    color='coral', \r\n",
        "    label='loss',\r\n",
        ")\r\n",
        "\r\n",
        "plt.xticks([epoch for epoch in range(len(train_state['train_loss']) + 1)])\r\n",
        "plt.show()"
      ],
      "execution_count": null,
      "outputs": [
        {
          "output_type": "display_data",
          "data": {
            "image/png": "[encoded data removed]",
            "text/plain": [
              "<Figure size 720x504 with 1 Axes>"
            ]
          },
          "metadata": {
            "tags": [],
            "needs_background": "light"
          }
        }
      ]
    },
    {
      "cell_type": "code",
      "metadata": {
        "id": "1HZUIADAedt-"
      },
      "source": [
        "model.load_state_dict(torch.load(train_state['model_filename']))\r\n",
        "model = model.to(args.device)\r\n",
        "loss_func = torch.nn.MSELoss(reduction=\"sum\")\r\n",
        "dataset.set_split('test')\r\n",
        "\r\n",
        "batch_generator = generate_batches(\r\n",
        "    dataset, \r\n",
        "    batch_size=args.batch_size, \r\n",
        "    device=args.device,\r\n",
        "    drop_last=False\r\n",
        ")\r\n",
        "\r\n",
        "model.eval()\r\n",
        "model.encoder_only = True\r\n",
        "predictions = []\r\n",
        "targets = []\r\n",
        "\r\n",
        "with torch.no_grad():\r\n",
        "    for batch_index, batch_dict in enumerate(batch_generator):\r\n",
        "        \r\n",
        "        x = batch_dict['x_data']\r\n",
        "        y_target = batch_dict['y_target']\r\n",
        "        \r\n",
        "        y_pred = model(x, None)\r\n",
        "        for pred, target in zip(y_pred, y_target):\r\n",
        "            predictions.append(pred.cpu().numpy().argmax())\r\n",
        "            targets.append(target)"
      ],
      "execution_count": null,
      "outputs": []
    },
    {
      "cell_type": "code",
      "metadata": {
        "colab": {
          "base_uri": "https://localhost:8080/"
        },
        "id": "gyJ51eTlepUp",
        "outputId": "3341feb0-2dce-4df0-acd7-b62b144fa2cf"
      },
      "source": [
        "for i, aspect in enumerate(model.get_aspect_words(w2v)):\r\n",
        "    print(i, \" \".join([a for a in aspect]))"
      ],
      "execution_count": null,
      "outputs": [
        {
          "output_type": "stream",
          "text": [
            "0 спектакл театрын спектакль театр исемендә фестивал артист опера әкият сәхнәс\n",
            "1 пычак җинаять законсыз полиция маддә тоткарлаган наркотик урлаган ялган хокук\n",
            "2 спектакль билет опера театр премьера спектакл матч тамашач режиссер сезон\n",
            "3 режиссер театр спектакл драма тренер театрын пьеса зәйниев мәктәб бикчәнтәев\n",
            "4 бала матур әби кеш намаз апа өй кайт малай аллаһ\n",
            "5 спорт ярыш ярышларын чаң беренчеле этаб республи этабын турнир данын\n",
            "6 мөфти мөселман диния нәзарәт мәчет ураза исла шура хәзрәт аллаһ\n",
            "7 сөт тонна терлек хуҗалы чәчү ашлык гектар центнер хуҗалык терлекчелек\n",
            "8 көндәш период азеведо матч зенит гол очко команда хоккейчы командасын\n",
            "9 башлы артист депутат тимергалиева хәмдүнә рәи рәхмәт җырч айрат шакиров\n",
            "10 галим шигырь шәхес иҗатын язуч шагыйрь язучы әдәбият фән композитор\n",
            "11 период урамында музе урамын урам янгын барс гасыр ак глухов\n",
            "12 объект ферма булдыру бина технология корылма музей инфраструктура база төзү\n",
            "13 конкурс грант ярминкә проект бәй номинация фору бәйг фестиваль кооператив\n",
            "14 автомобил ашыгыч бәрелгән бәрелешкән авария бәрдергән һәлакәт ла машина коткаручы\n"
          ],
          "name": "stdout"
        }
      ]
    },
    {
      "cell_type": "code",
      "metadata": {
        "id": "-gfp1LgYewZG"
      },
      "source": [
        "mapper_rev = {v: k for k, v in mapper.items()}\r\n",
        "\r\n",
        "cluster_map_ABAE = {\r\n",
        "    0: \"culture\",\r\n",
        "    1: \"incident\",\r\n",
        "    2: \"culture\",\r\n",
        "    3: \"culture\",\r\n",
        "    4: \"religion\",\r\n",
        "    5: \"sport\",\r\n",
        "    6: \"religion\",\r\n",
        "    7: \"agriculture\",\r\n",
        "    8: \"sport\",\r\n",
        "    9: \"culture\",\r\n",
        "    10: \"culture\",\r\n",
        "    11: \"culture\",\r\n",
        "    12: \"agriculture\",\r\n",
        "    13: \"culture\",\r\n",
        "    14: \"incident\",\r\n",
        "}\r\n",
        "\r\n",
        "y_pred = list(map(lambda x: mapper[x], [cluster_map_ABAE[pred] for pred in predictions]))\r\n",
        "y_true = list(map(lambda x: x.item(), targets))"
      ],
      "execution_count": null,
      "outputs": []
    },
    {
      "cell_type": "markdown",
      "metadata": {
        "id": "1lVnM4fTI9Fn"
      },
      "source": [
        "### Results"
      ]
    },
    {
      "cell_type": "code",
      "metadata": {
        "id": "nKrw41e-g_1V",
        "colab": {
          "base_uri": "https://localhost:8080/"
        },
        "outputId": "61e77bc5-7638-4501-ca4f-6b253922464f"
      },
      "source": [
        "print(classification_report(y_true, y_pred,\r\n",
        "                            target_names=['culture', 'incident', 'sport',\r\n",
        "                                          'agriculture', 'religion'],\r\n",
        "                            digits=3))"
      ],
      "execution_count": null,
      "outputs": [
        {
          "output_type": "stream",
          "text": [
            "              precision    recall  f1-score   support\n",
            "\n",
            "     culture      0.872     0.893     0.883      1497\n",
            "    incident      0.706     0.986     0.823      1314\n",
            "       sport      0.927     0.486     0.638       654\n",
            " agriculture      0.856     0.825     0.840       589\n",
            "    religion      0.872     0.522     0.653       559\n",
            "\n",
            "    accuracy                          0.808      4613\n",
            "   macro avg      0.847     0.742     0.767      4613\n",
            "weighted avg      0.830     0.808     0.798      4613\n",
            "\n"
          ],
          "name": "stdout"
        }
      ]
    },
    {
      "cell_type": "code",
      "metadata": {
        "id": "fDBp1qd1JARP"
      },
      "source": [
        ""
      ],
      "execution_count": null,
      "outputs": []
    }
  ]
}